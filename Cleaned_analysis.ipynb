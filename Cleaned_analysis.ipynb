{
 "cells": [
  {
   "cell_type": "code",
   "execution_count": 135,
   "metadata": {},
   "outputs": [],
   "source": [
    "# importing the dataset\n",
    "import pandas as pd\n",
    "import numpy as np\n",
    "import matplotlib.pyplot as plt\n",
    "%matplotlib inline\n",
    "import statistics as st\n",
    "\n",
    "df = pd.read_csv(\"dataset.csv\")\n",
    "# print(df)"
   ]
  },
  {
   "cell_type": "code",
   "execution_count": 102,
   "metadata": {},
   "outputs": [],
   "source": [
    "# dropping these values as they have too many NaNs and zeros, not much to infer from them.\n",
    "df = df.drop(['Evaporation','Sunshine','RISK_MM','Cloud3pm','Cloud9am'],axis=1)"
   ]
  },
  {
   "cell_type": "code",
   "execution_count": 103,
   "metadata": {
    "collapsed": true
   },
   "outputs": [
    {
     "name": "stdout",
     "output_type": "stream",
     "text": [
      "['Albury' 'BadgerysCreek' 'Cobar' 'CoffsHarbour' 'Moree' 'Newcastle'\n",
      " 'NorahHead' 'NorfolkIsland' 'Penrith' 'Richmond' 'Sydney' 'SydneyAirport'\n",
      " 'WaggaWagga' 'Williamtown' 'Wollongong' 'Canberra' 'Tuggeranong'\n",
      " 'MountGinini' 'Ballarat' 'Bendigo' 'Sale' 'MelbourneAirport' 'Melbourne'\n",
      " 'Mildura' 'Nhil' 'Portland' 'Watsonia' 'Dartmoor' 'Brisbane' 'Cairns'\n",
      " 'GoldCoast' 'Townsville' 'Adelaide' 'MountGambier' 'Nuriootpa' 'Woomera'\n",
      " 'Albany' 'Witchcliffe' 'PearceRAAF' 'PerthAirport' 'Perth' 'SalmonGums'\n",
      " 'Walpole' 'Hobart' 'Launceston' 'AliceSprings' 'Darwin' 'Katherine'\n",
      " 'Uluru']\n"
     ]
    }
   ],
   "source": [
    "# Available locations\n",
    "print(df.Location.unique())"
   ]
  },
  {
   "cell_type": "code",
   "execution_count": 104,
   "metadata": {},
   "outputs": [],
   "source": [
    "# Will be using only these location for our analysis\n",
    "locs = ['Sydney','Melbourne','Brisbane','Perth','Adelaide','Canberra','Hobart','Darwin','GoldCoast','Newcastle','Townsville']\n",
    "\n",
    "ds = df.loc[(df.Location == 'Sydney') | (df.Location == 'Melbourne') | (df.Location == 'Brisbane')\n",
    "            |(df.Location == 'Perth') |(df.Location == 'Adelaide') |(df.Location == 'Canberra')\n",
    "            |(df.Location == 'Hobart')|(df.Location == 'Darwin')|(df.Location == 'GoldCoast')\n",
    "            |(df.Location == 'NewCastle')|(df.Location == 'Townsville')]"
   ]
  },
  {
   "cell_type": "code",
   "execution_count": 105,
   "metadata": {
    "collapsed": true
   },
   "outputs": [
    {
     "name": "stdout",
     "output_type": "stream",
     "text": [
      "\n",
      "\n",
      " Sydney \n",
      "\n",
      "      Jan  Feb  March  Apr  May  June  July  Aug  Sept  Oct  Nov  Dec  total\n",
      "2007    0    0      0    0    0     0     0    0     0    0    0    0      0\n",
      "2008    0   29     31   30   31    30    31   31    30   31   30   31    335\n",
      "2009   31   28     31   30   31    30    31   31    30   31   30   31    365\n",
      "2010   31   28     31   30   31    29    31   31    30   30   29   31    362\n",
      "2011   31   28     31    0   31    30    31   31    30   31   30   31    335\n",
      "2012   31   29     31   30   31    30    31   31    30   31   30    0    335\n",
      "2013   31    0     31   30   31    30    31   31    30   31   30   31    337\n",
      "2014   31   28     31   30   31    30    31   31    29   30   28   31    361\n",
      "2015   31   28     31   30   31    30    31   31    30   31   30   31    365\n",
      "2016   31   29     31   30   31    30    31   31    30   31   30   31    366\n",
      "2017   31   28     31   30   31    25     0    0     0    0    0    0    176\n",
      "2018    0    0      0    0    0     0     0    0     0    0    0    0      0\n",
      "\n",
      "\n",
      " Melbourne \n",
      "\n",
      "      Jan  Feb  March  Apr  May  June  July  Aug  Sept  Oct  Nov  Dec  total\n",
      "2007    0    0      0    0    0     0     0    0     0    0    0    0      0\n",
      "2008    0    0      0    0    0     0    31   31    30   31   30   31    184\n",
      "2009   31   28     31   30   31    30    31   31    30   31   30   31    365\n",
      "2010   31   28     31   30   31    30    31   31    30   31   30   31    365\n",
      "2011   31   20     31    0   31    22    25   25    29   21   21   25    281\n",
      "2012   25   21     25   22   23    20    25   23    23   23   30    0    260\n",
      "2013   28    0     26   25   22    24    23   23    21   25   21   27    265\n",
      "2014   23   24     25   22   24    23    22   24    27   30   18   26    288\n",
      "2015    5    0      0    0    0     0     0    0     0    0    0    0      5\n",
      "2016    0    0      0    1   31    30    31   31    30   31   30   31    246\n",
      "2017   31   28     31   30   31    25     0    0     0    0    0    0    176\n",
      "2018    0    0      0    0    0     0     0    0     0    0    0    0      0\n",
      "\n",
      "\n",
      " Brisbane \n",
      "\n",
      "      Jan  Feb  March  Apr  May  June  July  Aug  Sept  Oct  Nov  Dec  total\n",
      "2007    0    0      0    0    0     0     0    0     0    0    0    0      0\n",
      "2008    0    0      0    0    0     0    31   31    30   30   30   31    183\n",
      "2009   30   28     31   30   31    29    31   31    30   31   29   31    362\n",
      "2010   31   28     30   29   29    30    31   31    30   31   30   31    361\n",
      "2011   31   28     30    0   31    29    30   31    30   31   29   31    331\n",
      "2012   30   29     31   30   31    30    31   31    30   31   30    0    334\n",
      "2013   30    0     31   30   31    30    31   31    30   31   30   31    336\n",
      "2014   31   27     31   30   30    30    31   30    30   31   30   31    362\n",
      "2015   30   27     31   29   28    30    31   31    29   31   30   31    358\n",
      "2016   30   27     31   30   31    30    31   31    30   31   30   31    363\n",
      "2017   30   27     29   29   31    25     0    0     0    0    0    0    171\n",
      "2018    0    0      0    0    0     0     0    0     0    0    0    0      0\n",
      "\n",
      "\n",
      " Perth \n",
      "\n",
      "      Jan  Feb  March  Apr  May  June  July  Aug  Sept  Oct  Nov  Dec  total\n",
      "2007    0    0      0    0    0     0     0    0     0    0    0    0      0\n",
      "2008    0    0      0    0    0     0    31   31    30   31   30   31    184\n",
      "2009   31   28     31   30   31    30    31   31    30   31   30   31    365\n",
      "2010   31   28     31   30   31    30    31   31    30   31   30   31    365\n",
      "2011   31   28     31    0   31    30    31   31    30   31   30   31    335\n",
      "2012   31   29     31   30   31    30    31   31    30   31   30    0    335\n",
      "2013   31    0     31   30   31    30    31   31    30   31   30   31    337\n",
      "2014   31   28     31   30   31    30    31   31    30   31   30   31    365\n",
      "2015   31   28     31   30   31    30    31   31    30   31   30   31    365\n",
      "2016   31   29     31   30   31    30    31   31    30   31   30   31    366\n",
      "2017   31   28     31   30   31    25     0    0     0    0    0    0    176\n",
      "2018    0    0      0    0    0     0     0    0     0    0    0    0      0\n",
      "\n",
      "\n",
      " Adelaide \n",
      "\n",
      "      Jan  Feb  March  Apr  May  June  July  Aug  Sept  Oct  Nov  Dec  total\n",
      "2007    0    0      0    0    0     0     0    0     0    0    0    0      0\n",
      "2008    0    0      0    0    0     0    25   25    28   27   30   31    166\n",
      "2009   31   28     31   30   31    30    31   30    28   31   30   31    362\n",
      "2010   31   28     31   30   30    29    29   29    30   31   30   31    359\n",
      "2011   31   27     31    0   31    29    29   26    30   31   30   30    325\n",
      "2012   30   29     31   29   23    28    31   30    30   30   30    0    321\n",
      "2013   28    0     28   27   27    28    31   29    27   27   28   27    307\n",
      "2014   30   28     26   30   27    30    31   31    30   31   29   28    351\n",
      "2015   31   28     31   30   28    30    31   31    30   31   29   30    360\n",
      "2016   31   29     31   30   31    30    31   31    30   31   30   31    366\n",
      "2017   31   27     30   30   31    24     0    0     0    0    0    0    173\n",
      "2018    0    0      0    0    0     0     0    0     0    0    0    0      0\n",
      "\n",
      "\n",
      " Canberra \n",
      "\n",
      "      Jan  Feb  March  Apr  May  June  July  Aug  Sept  Oct  Nov  Dec  total\n",
      "2007    0    0      0    0    0     0     0    0     0    0   30   31     61\n",
      "2008   31   29     31   30   31    30    31   31    30   31   30   31    366\n",
      "2009   31   28     31   30   31    30    31   31    30   31   30   31    365\n",
      "2010   31   28     31   30   31    30    31   31    30   31   30   30    364\n",
      "2011   31   28     30    0   31    28    30   31    27   31   30   30    327\n",
      "2012   31   29     31   30   31    29    31   31    30   31   30    0    334\n",
      "2013   31    0     31   30   31    30    31   31    30   31   30   31    337\n",
      "2014   31   27     31   30   30    30    31   31    30   31   30   31    363\n",
      "2015   31   28     29   30   31    30    31   30    30   30   30   31    361\n",
      "2016   31   29     31   30   31    30    31   31    30   31   30   31    366\n",
      "2017   31   28     29   30   31    25     0    0     0    0    0    0    174\n",
      "2018    0    0      0    0    0     0     0    0     0    0    0    0      0\n",
      "\n",
      "\n",
      " Hobart \n",
      "\n",
      "      Jan  Feb  March  Apr  May  June  July  Aug  Sept  Oct  Nov  Dec  total\n",
      "2007    0    0      0    0    0     0     0    0     0    0    0    0      0\n",
      "2008    0    0      0    0    0     0    31   31    30   31   30   31    184\n",
      "2009   31   28     31   30   31    30    31   31    30   31   30   31    365\n",
      "2010   31   28     31   30   31    30    31   31    30   31   30   31    365\n",
      "2011   31   28     30    0   31    30    31   31    30   31   30   31    334\n",
      "2012   31   29     31   30   31    30    31   31    30   31   30    0    335\n",
      "2013   31    0     31   30   31    30    31   31    30   31   30   31    337\n",
      "2014   31   28     31   30   31    30    30   31    30   30   30   31    363\n",
      "2015   30   28     31   30   31    30    30   31    30   31   30   31    363\n",
      "2016   31   29     31   30   31    30    31   31    30   31   30   31    366\n",
      "2017   31   28     31   30   31    25     0    0     0    0    0    0    176\n",
      "2018    0    0      0    0    0     0     0    0     0    0    0    0      0\n",
      "\n",
      "\n",
      " Darwin \n",
      "\n",
      "      Jan  Feb  March  Apr  May  June  July  Aug  Sept  Oct  Nov  Dec  total\n",
      "2007    0    0      0    0    0     0     0    0     0    0    0    0      0\n",
      "2008    0    0      0    0    0     0    31   31    30   31   30   31    184\n",
      "2009   31   28     31   30   31    30    31   31    30   31   30   31    365\n",
      "2010   31   28     31   30   31    30    31   31    30   31   30   31    365\n",
      "2011   31   28     31    0   31    30    31   31    30   31   30   31    335\n",
      "2012   31   29     31   30   31    30    31   31    30   31   30    0    335\n",
      "2013   31    0     31   30   31    30    31   31    30   31   30   31    337\n",
      "2014   31   28     31   30   31    30    31   31    30   31   30   31    365\n",
      "2015   31   28     31   30   31    30    31   31    30   31   30   31    365\n",
      "2016   31   29     31   30   31    30    31   31    30   31   30   31    366\n",
      "2017   31   28     31   30   31    24     0    0     0    0    0    0    175\n",
      "2018    0    0      0    0    0     0     0    0     0    0    0    0      0\n",
      "\n",
      "\n",
      " GoldCoast \n",
      "\n",
      "      Jan  Feb  March  Apr  May  June  July  Aug  Sept  Oct  Nov  Dec  total\n",
      "2007    0    0      0    0    0     0     0    0     0    0    0    0      0\n",
      "2008    0    0      0    0    0     0     0    0     0    0    0   30     30\n",
      "2009   31   28     31   30   31    30    31   31    30   30   30   30    363\n",
      "2010   31   28     31   30   30    30    31   31    30   31   30   31    364\n",
      "2011   31   28     31    0   31    30    31   31    30   31   30   31    335\n",
      "2012   31   29     31   30   31    30    31   31    30   31   30    0    335\n",
      "2013   31    0     31   30   31    30    31   31    30   31   30   31    337\n",
      "2014   31   27     31   30   30    29    29   30    29   30   30   31    357\n",
      "2015   29   26     28   28   30    27    31   31    29   31   29   31    350\n",
      "2016   25   27     25   29   30    29    29   29    28   28   28   31    338\n",
      "2017   29   25     31   30   31    25     0    0     0    0    0    0    171\n",
      "2018    0    0      0    0    0     0     0    0     0    0    0    0      0\n",
      "\n",
      "\n",
      " Newcastle \n",
      "\n"
     ]
    },
    {
     "name": "stdout",
     "output_type": "stream",
     "text": [
      "      Jan  Feb  March  Apr  May  June  July  Aug  Sept  Oct  Nov  Dec  total\n",
      "2007    0    0      0    0    0     0     0    0     0    0    0    0      0\n",
      "2008    0    0      0    0    0     0     0    0     0    0    0   31     31\n",
      "2009   31   28     31   30   31    30    31   31    30   31   30   31    365\n",
      "2010   31   28     31   30   31    30    31   31    30   25   30   31    359\n",
      "2011   31   28     26    0   31    30    31   31    25   31   30   31    325\n",
      "2012   31   29     20   30   31    30    26   31    30   31   29    0    318\n",
      "2013   31    0     31   25   24    30    31   31    30   31   30   31    325\n",
      "2014   31   28     28   26   31    30    31   31    30   31   30   30    357\n",
      "2015   31   28     27   28   31    30    31   31    29   29   29   31    355\n",
      "2016   31   21     31   30   31    30    31   31    30   30   30   28    354\n",
      "2017   31   28     30   22   31    24     0    0     0    0    0    0    166\n",
      "2018    0    0      0    0    0     0     0    0     0    0    0    0      0\n",
      "\n",
      "\n",
      " Townsville \n",
      "\n",
      "      Jan  Feb  March  Apr  May  June  July  Aug  Sept  Oct  Nov  Dec  total\n",
      "2007    0    0      0    0    0     0     0    0     0    0    0    0      0\n",
      "2008    0    0      0    0    0     0     0    0     0    0    0   31     31\n",
      "2009   31   28     31   30   31    30    31   31    30   31   30   31    365\n",
      "2010   31   28     31   30   31    30    31   31    30   31   30   31    365\n",
      "2011   31   27     31    0   31    30    31   31    30   31   30   31    334\n",
      "2012   31   29     31   30   31    30    31   31    30   31   30    0    335\n",
      "2013   31    0     31   30   31    30    31   31    30   31   30   31    337\n",
      "2014   31   28     31   30   31    30    31   31    30   31   30   31    365\n",
      "2015   31   28     31   30   31    30    31   31    30   31   30   31    365\n",
      "2016   31   29     31   30   31    30    31   31    29   31   30   29    363\n",
      "2017   30   28     30   30   31    24     0    0     0    0    0    0    173\n",
      "2018    0    0      0    0    0     0     0    0     0    0    0    0      0\n"
     ]
    }
   ],
   "source": [
    "# Data distribution in chosen location over the years 2007 - 2018\n",
    "years = ['2007','2008','2009','2010','2011','2012','2013','2014','2015','2016','2017','2018']\n",
    "months = ['Jan','Feb','March','Apr','May','June','July','Aug','Sept','Oct','Nov','Dec','total']\n",
    "count = pd.DataFrame([],index=years,columns=months)\n",
    "m = 0\n",
    "for i in locs:\n",
    "    print('\\n\\n',i,'\\n')\n",
    "    data = df.loc[df.Location == i]\n",
    "    for i in range(7,10):\n",
    "        count.loc['200'+str(i),'total'] = (data.loc[(data.Date>= '200'+str(i)+'-00-00') & \n",
    "                                                      (data.Date<= '200'+str(i)+'-13-32')]).shape[0]\n",
    "        for j in range(1,13):\n",
    "            if(j//10):   \n",
    "                count.loc['200'+str(i),months[j-1]] = (data.loc[(data.Date>= '200'+str(i)+'-'+str(j)+'-00') &\n",
    "                                                              (data.Date<= '200'+str(i)+'-'+str(j)+'-32')]).shape[0]\n",
    "            else:\n",
    "                count.loc['200'+str(i),months[j-1]] = (data.loc[(data.Date>= '200'+str(i)+'-0'+str(j)+'-00') &\n",
    "                                                              (data.Date<= '200'+str(i)+'-0'+str(j)+'-32')]).shape[0]\n",
    "\n",
    "    for i in range(0,9):\n",
    "        count.loc['201'+str(i),'total'] = (data.loc[(data.Date>= '201'+str(i)+'-00-00') & \n",
    "                                                      (data.Date<= '201'+str(i)+'-13-32')]).shape[0]\n",
    "        for j in range(1,13):\n",
    "            if(j//10):   \n",
    "                count.loc['201'+str(i),months[j-1]] = (data.loc[(data.Date>= '201'+str(i)+'-'+str(j)+'-00') &\n",
    "                                                              (data.Date<= '201'+str(i)+'-'+str(j)+'-32')]).shape[0]\n",
    "            else:\n",
    "                count.loc['201'+str(i),months[j-1]] = (data.loc[(data.Date>= '201'+str(i)+'-0'+str(j)+'-00') &\n",
    "                                                              (data.Date<= '201'+str(i)+'-0'+str(j)+'-32')]).shape[0]\n",
    "    print(count)\n",
    "    "
   ]
  },
  {
   "cell_type": "code",
   "execution_count": 106,
   "metadata": {},
   "outputs": [],
   "source": [
    "# collecting dataset of each location\n",
    "sydney = ds.loc[ds.Location == 'Sydney']\n",
    "melbourne = ds.loc[ds.Location == 'Melbourne']\n",
    "brisbane = ds.loc[ds.Location == 'Brisbane']\n",
    "perth = ds.loc[ds.Location == 'Perth']\n",
    "adelaide = ds.loc[ds.Location == 'Adelaide']\n",
    "canberra = ds.loc[ds.Location == 'Canberra']\n",
    "# print(sydney)"
   ]
  },
  {
   "cell_type": "code",
   "execution_count": 107,
   "metadata": {},
   "outputs": [],
   "source": [
    "# collecting data for each location over the years 2008 - 2017\n",
    "sydney = sydney.loc[(sydney.Date>= '2008-00-00') & (sydney.Date<= '2017-13-32')]\n",
    "melbourne = melbourne.loc[(melbourne.Date>= '2008-00-00') & (melbourne.Date<= '2017-13-32')]\n",
    "brisbane = brisbane.loc[(brisbane.Date>= '2008-00-00') & (brisbane.Date<= '2017-13-32')]\n",
    "perth = perth.loc[(perth.Date>= '2008-00-00') & (perth.Date<= '2017-13-32')]\n",
    "adelaide = adelaide.loc[(adelaide.Date>= '2008-00-00') & (adelaide.Date<= '2017-13-32')]\n",
    "canberra = canberra.loc[(canberra.Date>= '2008-00-00') & (canberra.Date<= '2017-13-32')]"
   ]
  },
  {
   "cell_type": "code",
   "execution_count": 108,
   "metadata": {
    "collapsed": true
   },
   "outputs": [
    {
     "data": {
      "text/plain": [
       "Date               0\n",
       "Location           0\n",
       "MinTemp            5\n",
       "MaxTemp            3\n",
       "Rainfall          16\n",
       "WindGustDir      329\n",
       "WindGustSpeed    327\n",
       "WindDir9am       536\n",
       "WindDir3pm       228\n",
       "WindSpeed9am     228\n",
       "WindSpeed3pm     223\n",
       "Humidity9am       61\n",
       "Humidity3pm       12\n",
       "Pressure9am      224\n",
       "Pressure3pm      220\n",
       "Temp9am           17\n",
       "Temp3pm            7\n",
       "RainToday         16\n",
       "RainTomorrow       0\n",
       "dtype: int64"
      ]
     },
     "execution_count": 108,
     "metadata": {},
     "output_type": "execute_result"
    }
   ],
   "source": [
    "nums = ['MinTemp','MaxTemp','Rainfall','WindGustSpeed','WindSpeed9am','WindSpeed3pm',\n",
    "        'Humidity9am','Humidity3pm','Pressure9am','Pressure3pm','Temp9am','Temp3pm']\n",
    "categs = ['WindGustDir','WindDir9am','WindDir3pm','RainToday','RainTomorrow']\n",
    "\n",
    "canberra.isna().sum()"
   ]
  },
  {
   "cell_type": "code",
   "execution_count": 124,
   "metadata": {
    "collapsed": true
   },
   "outputs": [
    {
     "data": {
      "text/plain": [
       "Date             0\n",
       "Location         0\n",
       "MinTemp          0\n",
       "MaxTemp          0\n",
       "Rainfall         0\n",
       "WindGustDir      0\n",
       "WindGustSpeed    0\n",
       "WindDir9am       0\n",
       "WindDir3pm       0\n",
       "WindSpeed9am     0\n",
       "WindSpeed3pm     0\n",
       "Humidity9am      0\n",
       "Humidity3pm      0\n",
       "Pressure9am      0\n",
       "Pressure3pm      0\n",
       "Temp9am          0\n",
       "Temp3pm          0\n",
       "RainToday        0\n",
       "RainTomorrow     0\n",
       "dtype: int64"
      ]
     },
     "execution_count": 124,
     "metadata": {},
     "output_type": "execute_result"
    }
   ],
   "source": [
    "# cleaning data\n",
    "\n",
    "# replacing numerical NaN values with the mean values.\n",
    "for i in nums:\n",
    "    sydney[i] = sydney[i].astype(float).interpolate()\n",
    "    melbourne[i] = melbourne[i].astype(float).interpolate()\n",
    "    brisbane[i] = brisbane[i].astype(float).interpolate()\n",
    "    perth[i] = perth[i].astype(float).interpolate()\n",
    "    adelaide[i] = adelaide[i].astype(float).interpolate()\n",
    "    canberra[i] = canberra[i].astype(float).interpolate()\n",
    "    \n",
    "# replcaing categorical NaN values with the previous values.\n",
    "sydney = sydney.fillna(method='ffill')\n",
    "sydney = sydney.fillna(method='ffill')\n",
    "melbourne = melbourne.fillna(method='ffill')\n",
    "brisbane = brisbane.fillna(method='ffill')\n",
    "perth = perth.fillna(method='ffill')\n",
    "adelaide = adelaide.fillna(method='ffill')\n",
    "canberra = canberra.fillna(method='ffill')\n",
    "\n",
    "canberra.isna().sum()"
   ]
  },
  {
   "cell_type": "code",
   "execution_count": 164,
   "metadata": {
    "collapsed": true
   },
   "outputs": [
    {
     "name": "stdout",
     "output_type": "stream",
     "text": [
      "            Jan        Feb      March        Apr        May       June  \\\n",
      "2009  27.570968  25.714286  25.422581  22.773333  20.712903  17.853333   \n",
      "2010  27.600000  27.385714  25.719355  24.620000  20.619355  17.720690   \n",
      "2011  27.374194  28.417857  26.009677  24.100000  19.470968  18.033333   \n",
      "2012  26.064516  25.775862  24.687097  23.580000  20.935484  17.726667   \n",
      "2013  27.616129  26.007574  26.396774  23.980000  21.329032  18.096667   \n",
      "2014  26.858065  26.239286  26.367742  23.843333  23.158065  19.593333   \n",
      "2015  27.535484  27.017857  26.800000  22.693333  20.654839  18.613333   \n",
      "2016  27.409677  28.206897  26.770968  24.746667  22.880645  18.950000   \n",
      "\n",
      "           July        Aug       Sept        Oct        Nov        Dec  \n",
      "2009  18.258065  20.874194  23.050000  21.400000  26.053333  25.622581  \n",
      "2010  17.064516  18.264516  20.963333  22.056667  23.393103  25.790323  \n",
      "2011  17.370968  19.761290  21.683333  22.177419  25.206667  23.132258  \n",
      "2012  17.645161  19.896774  22.456667  23.264516  24.120000  24.754839  \n",
      "2013  19.454839  21.067742  24.423333  25.706452  23.966667  26.377419  \n",
      "2014  18.951613  18.341935  21.886207  24.536667  25.982143  25.838710  \n",
      "2015  17.425806  19.380645  20.666667  24.941935  26.163333  26.100000  \n",
      "2016  18.538710  19.148387  21.433333  23.887097  26.130000  28.129032  \n",
      "           Jan       Feb     March        Apr       May       June      July  \\\n",
      "2009  0.800000  4.557143  1.954839   5.086667  4.058065   4.326667  1.709677   \n",
      "2010  1.161290  8.550000  1.658065   1.000000  5.432258   5.055172  3.690323   \n",
      "2011  1.735484  0.642857  6.180645   2.970000  4.374194   3.126667  9.103226   \n",
      "2012  4.477419  3.827586  8.703226   4.940000  1.200000   8.140000  1.812903   \n",
      "2013  4.445161  2.953079  2.116129   6.660000  3.554839  10.546667  1.051613   \n",
      "2014  0.561290  2.078571  3.309677   4.033333  0.883871   2.266667  0.529032   \n",
      "2015  5.348387  2.107143  2.103226  12.226667  3.541935   3.686667  1.516129   \n",
      "2016  8.058065  0.889655  6.232258   5.166667  0.232258  10.166667  3.374194   \n",
      "\n",
      "           Aug      Sept       Oct       Nov       Dec  \n",
      "2009  0.193548  0.533333  5.806452  0.440000  2.154839  \n",
      "2010  0.870968  1.406667  2.853333  4.617241  2.683871  \n",
      "2011  1.683871  2.386667  1.206452  4.946667  2.529032  \n",
      "2012  0.612903  0.793333  0.948387  1.733333  1.764516  \n",
      "2013  0.477419  1.193333  1.361290  6.426667  1.000000  \n",
      "2014  6.941935  1.737931  2.886667  0.600000  3.806452  \n",
      "2015  2.316129  2.666667  1.387097  4.086667  3.116129  \n",
      "2016  4.883871  2.333333  1.012903  0.906667  2.096774  \n"
     ]
    },
    {
     "name": "stderr",
     "output_type": "stream",
     "text": [
      "c:\\users\\kavya s\\appdata\\local\\programs\\python\\python37-32\\lib\\site-packages\\ipykernel_launcher.py:22: RuntimeWarning: invalid value encountered in double_scalars\n",
      "c:\\users\\kavya s\\appdata\\local\\programs\\python\\python37-32\\lib\\site-packages\\ipykernel_launcher.py:23: RuntimeWarning: invalid value encountered in double_scalars\n"
     ]
    }
   ],
   "source": [
    "# SYDNEY: TEMPERATURE AND RAINFALL VISUALIZATION\n",
    "\n",
    "years = ['2009','2010','2011','2012','2013','2014','2015','2016']\n",
    "months = ['Jan','Feb','March','Apr','May','June','July','Aug','Sept','Oct','Nov','Dec']\n",
    "Avg_temp = pd.DataFrame([],index=years,columns=months)\n",
    "Rains = pd.DataFrame([],index=years,columns=months)\n",
    "avg_temp = []\n",
    "for i in range(1,13):\n",
    "    if(i//10):\n",
    "        m = sydney.loc[(sydney.Date>= '2009-'+str(i)+'-01') & (sydney.Date<= '2009-'+str(i)+'-31')]\n",
    "    else:\n",
    "        m = sydney.loc[(sydney.Date>= '2009-0'+str(i)+'-01') & (sydney.Date<= '2009-0'+str(i)+'-31')]\n",
    "    Avg_temp.loc['2009',months[i-1]] = m['MaxTemp'].sum()/m.shape[0]\n",
    "    Rains.loc['2009',months[i-1]] = m['Rainfall'].sum()/m.shape[0]\n",
    "    \n",
    "for j in range(0,7):\n",
    "    for i in range(1,13):\n",
    "        if(i//10):\n",
    "            m = sydney.loc[(sydney.Date>= '201'+str(j)+'-'+str(i)+'-01') & (sydney.Date<= '201'+str(j)+'-'+str(i)+'-31')]\n",
    "        else:\n",
    "            m = sydney.loc[(sydney.Date>= '201'+str(j)+'-0'+str(i)+'-01') & (sydney.Date<= '201'+str(j)+'-0'+str(i)+'-31')]\n",
    "        Avg_temp.loc['201'+str(j),months[i-1]] = m['MaxTemp'].sum()/m.shape[0]\n",
    "        Rains.loc['201'+str(j),months[i-1]] = m['Rainfall'].sum()/m.shape[0]\n",
    "        \n",
    "# print(Avg_temp)\n",
    "\n",
    "# cleaning avergae temperature and rainfall by interpolating the NaN values\n",
    "for i in months:\n",
    "    Avg_temp[i] = Avg_temp[i].astype(float).interpolate()\n",
    "    Rains[i] = Rains[i].astype(float).interpolate()\n",
    "    \n",
    "print(Avg_temp)\n",
    "print(Rains)\n",
    "        "
   ]
  },
  {
   "cell_type": "code",
   "execution_count": 166,
   "metadata": {},
   "outputs": [
    {
     "data": {
      "image/png": "[encoded data removed]",
      "text/plain": [
       "<Figure size 432x288 with 1 Axes>"
      ]
     },
     "metadata": {
      "needs_background": "light"
     },
     "output_type": "display_data"
    }
   ],
   "source": [
    "# Temperature analysis for Sydney\n",
    "\n",
    "cols = Avg_temp.columns.tolist()\n",
    "cols.insert(0, cols.pop(cols.index('Dec')))\n",
    "Avg_temp = Avg_temp.reindex(columns= cols)\n",
    "# print(cols)\n",
    "\n",
    "x = cols\n",
    "for i in range(10,17,3):\n",
    "    \n",
    "    plt.plot(x, Avg_temp.loc['20'+str(i),:], label = '20'+str(i)) \n",
    "\n",
    "    # naming the x axis \n",
    "    plt.xlabel('Month') \n",
    "    # naming the y axis \n",
    "    plt.ylabel('Max_temp') \n",
    "\n",
    "    # giving a title to my graph \n",
    "    plt.title('Temperature graph') \n",
    "\n",
    "# function to show the plot \n",
    "plt.legend()\n",
    "plt.show() "
   ]
  },
  {
   "cell_type": "code",
   "execution_count": 167,
   "metadata": {},
   "outputs": [
    {
     "data": {
      "image/png": "[encoded data removed]",
      "text/plain": [
       "<Figure size 432x288 with 1 Axes>"
      ]
     },
     "metadata": {
      "needs_background": "light"
     },
     "output_type": "display_data"
    }
   ],
   "source": [
    "# Rainfall analysis for Sydney\n",
    "\n",
    "# print(Rains)\n",
    "cols = Rains.columns.tolist()\n",
    "cols.insert(0, cols.pop(cols.index('Dec')))\n",
    "Rains = Rains.reindex(columns= cols)\n",
    "# print(cols)\n",
    "\n",
    "x = cols\n",
    "for i in range(10,17,3):\n",
    "    \n",
    "    plt.plot(x, Rains.loc['20'+str(i),:], label = '20'+str(i)) \n",
    "\n",
    "    # naming the x axis \n",
    "    plt.xlabel('Month') \n",
    "    # naming the y axis \n",
    "    plt.ylabel('Average Rainfall') \n",
    "\n",
    "    # giving a title to my graph \n",
    "    plt.title('Rainfall graph') \n",
    "\n",
    "# function to show the plot \n",
    "plt.legend()\n",
    "plt.show() "
   ]
  },
  {
   "cell_type": "code",
   "execution_count": null,
   "metadata": {},
   "outputs": [],
   "source": []
  },
  {
   "cell_type": "code",
   "execution_count": null,
   "metadata": {},
   "outputs": [],
   "source": []
  }
 ],
 "metadata": {
  "kernelspec": {
   "display_name": "Python 3",
   "language": "python",
   "name": "python3"
  },
  "language_info": {
   "codemirror_mode": {
    "name": "ipython",
    "version": 3
   },
   "file_extension": ".py",
   "mimetype": "text/x-python",
   "name": "python",
   "nbconvert_exporter": "python",
   "pygments_lexer": "ipython3",
   "version": "3.7.4"
  }
 },
 "nbformat": 4,
 "nbformat_minor": 2
}
