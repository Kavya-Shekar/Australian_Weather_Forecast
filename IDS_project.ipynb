{
 "cells": [
  {
   "cell_type": "code",
   "execution_count": 61,
   "metadata": {},
   "outputs": [
    {
     "name": "stdout",
     "output_type": "stream",
     "text": [
      "              Date Location  MinTemp  MaxTemp  Rainfall  Evaporation  \\\n",
      "0       2008-12-01   Albury     13.4     22.9       0.6          NaN   \n",
      "1       2008-12-02   Albury      7.4     25.1       0.0          NaN   \n",
      "2       2008-12-03   Albury     12.9     25.7       0.0          NaN   \n",
      "3       2008-12-04   Albury      9.2     28.0       0.0          NaN   \n",
      "4       2008-12-05   Albury     17.5     32.3       1.0          NaN   \n",
      "...            ...      ...      ...      ...       ...          ...   \n",
      "142188  2017-06-20    Uluru      3.5     21.8       0.0          NaN   \n",
      "142189  2017-06-21    Uluru      2.8     23.4       0.0          NaN   \n",
      "142190  2017-06-22    Uluru      3.6     25.3       0.0          NaN   \n",
      "142191  2017-06-23    Uluru      5.4     26.9       0.0          NaN   \n",
      "142192  2017-06-24    Uluru      7.8     27.0       0.0          NaN   \n",
      "\n",
      "        Sunshine WindGustDir  WindGustSpeed WindDir9am  ... Humidity3pm  \\\n",
      "0            NaN           W           44.0          W  ...        22.0   \n",
      "1            NaN         WNW           44.0        NNW  ...        25.0   \n",
      "2            NaN         WSW           46.0          W  ...        30.0   \n",
      "3            NaN          NE           24.0         SE  ...        16.0   \n",
      "4            NaN           W           41.0        ENE  ...        33.0   \n",
      "...          ...         ...            ...        ...  ...         ...   \n",
      "142188       NaN           E           31.0        ESE  ...        27.0   \n",
      "142189       NaN           E           31.0         SE  ...        24.0   \n",
      "142190       NaN         NNW           22.0         SE  ...        21.0   \n",
      "142191       NaN           N           37.0         SE  ...        24.0   \n",
      "142192       NaN          SE           28.0        SSE  ...        24.0   \n",
      "\n",
      "        Pressure9am  Pressure3pm  Cloud9am  Cloud3pm  Temp9am  Temp3pm  \\\n",
      "0            1007.7       1007.1       8.0       NaN     16.9     21.8   \n",
      "1            1010.6       1007.8       NaN       NaN     17.2     24.3   \n",
      "2            1007.6       1008.7       NaN       2.0     21.0     23.2   \n",
      "3            1017.6       1012.8       NaN       NaN     18.1     26.5   \n",
      "4            1010.8       1006.0       7.0       8.0     17.8     29.7   \n",
      "...             ...          ...       ...       ...      ...      ...   \n",
      "142188       1024.7       1021.2       NaN       NaN      9.4     20.9   \n",
      "142189       1024.6       1020.3       NaN       NaN     10.1     22.4   \n",
      "142190       1023.5       1019.1       NaN       NaN     10.9     24.5   \n",
      "142191       1021.0       1016.8       NaN       NaN     12.5     26.1   \n",
      "142192       1019.4       1016.5       3.0       2.0     15.1     26.0   \n",
      "\n",
      "        RainToday  RISK_MM  RainTomorrow  \n",
      "0              No      0.0            No  \n",
      "1              No      0.0            No  \n",
      "2              No      0.0            No  \n",
      "3              No      1.0            No  \n",
      "4              No      0.2            No  \n",
      "...           ...      ...           ...  \n",
      "142188         No      0.0            No  \n",
      "142189         No      0.0            No  \n",
      "142190         No      0.0            No  \n",
      "142191         No      0.0            No  \n",
      "142192         No      0.0            No  \n",
      "\n",
      "[142193 rows x 24 columns]\n"
     ]
    }
   ],
   "source": [
    "import pandas as pd\n",
    "import numpy as np\n",
    "import matplotlib.pyplot as plt\n",
    "%matplotlib inline\n",
    "import statistics as st\n",
    "\n",
    "df = pd.read_csv(\"dataset.csv\")\n",
    "print(df)"
   ]
  },
  {
   "cell_type": "code",
   "execution_count": 28,
   "metadata": {
    "collapsed": true
   },
   "outputs": [
    {
     "name": "stdout",
     "output_type": "stream",
     "text": [
      "['Albury' 'BadgerysCreek' 'Cobar' 'CoffsHarbour' 'Moree' 'Newcastle'\n",
      " 'NorahHead' 'NorfolkIsland' 'Penrith' 'Richmond' 'Sydney' 'SydneyAirport'\n",
      " 'WaggaWagga' 'Williamtown' 'Wollongong' 'Canberra' 'Tuggeranong'\n",
      " 'MountGinini' 'Ballarat' 'Bendigo' 'Sale' 'MelbourneAirport' 'Melbourne'\n",
      " 'Mildura' 'Nhil' 'Portland' 'Watsonia' 'Dartmoor' 'Brisbane' 'Cairns'\n",
      " 'GoldCoast' 'Townsville' 'Adelaide' 'MountGambier' 'Nuriootpa' 'Woomera'\n",
      " 'Albany' 'Witchcliffe' 'PearceRAAF' 'PerthAirport' 'Perth' 'SalmonGums'\n",
      " 'Walpole' 'Hobart' 'Launceston' 'AliceSprings' 'Darwin' 'Katherine'\n",
      " 'Uluru']\n"
     ]
    }
   ],
   "source": [
    "print(df.Location.unique())"
   ]
  },
  {
   "cell_type": "code",
   "execution_count": 24,
   "metadata": {},
   "outputs": [],
   "source": [
    "df = df.drop(['Evaporation','Sunshine','RISK_MM','Cloud3pm','Cloud9am'],axis=1)"
   ]
  },
  {
   "cell_type": "code",
   "execution_count": 40,
   "metadata": {},
   "outputs": [],
   "source": [
    "ds = df.loc[(df.Location == 'Sydney') | (df.Location == 'Melbourne') | (df.Location == 'Brisbane') |(df.Location == 'Perth') |(df.Location == 'Adelaide') |(df.Location == 'Canberra') ]"
   ]
  },
  {
   "cell_type": "code",
   "execution_count": 41,
   "metadata": {},
   "outputs": [
    {
     "name": "stdout",
     "output_type": "stream",
     "text": [
      "              Date Location  MinTemp  MaxTemp  Rainfall WindGustDir  \\\n",
      "29497   2008-02-01   Sydney     19.5     22.4      15.6         NaN   \n",
      "29498   2008-02-02   Sydney     19.5     25.6       6.0         NaN   \n",
      "29499   2008-02-03   Sydney     21.6     24.5       6.6         NaN   \n",
      "29500   2008-02-04   Sydney     20.2     22.8      18.8         NaN   \n",
      "29501   2008-02-05   Sydney     19.7     25.7      77.4         NaN   \n",
      "...            ...      ...      ...      ...       ...         ...   \n",
      "120895  2017-06-21    Perth     10.3     19.9       0.2          NW   \n",
      "120896  2017-06-22    Perth     13.0     16.8      61.2         SSW   \n",
      "120897  2017-06-23    Perth     13.3     18.9       0.4          SE   \n",
      "120898  2017-06-24    Perth     11.5     18.2       0.0          SE   \n",
      "120899  2017-06-25    Perth      6.3     17.0       0.0           E   \n",
      "\n",
      "        WindGustSpeed WindDir9am WindDir3pm  WindSpeed9am  WindSpeed3pm  \\\n",
      "29497             NaN          S        SSW          17.0          20.0   \n",
      "29498             NaN          W          E           9.0          13.0   \n",
      "29499             NaN        ESE        ESE          17.0           2.0   \n",
      "29500             NaN        NNE          E          22.0          20.0   \n",
      "29501             NaN        NNE          W          11.0           6.0   \n",
      "...               ...        ...        ...           ...           ...   \n",
      "120895           37.0        NNE        NNW           9.0          15.0   \n",
      "120896           46.0          W         SW          17.0          17.0   \n",
      "120897           37.0         SE        ESE          11.0          11.0   \n",
      "120898           30.0        ESE        ESE           9.0          11.0   \n",
      "120899           26.0         SE         SE           4.0          11.0   \n",
      "\n",
      "        Humidity9am  Humidity3pm  Pressure9am  Pressure3pm  Temp9am  Temp3pm  \\\n",
      "29497          92.0         84.0       1017.6       1017.4     20.7     20.9   \n",
      "29498          83.0         73.0       1017.9       1016.4     22.4     24.8   \n",
      "29499          88.0         86.0       1016.7       1015.6     23.5     23.0   \n",
      "29500          83.0         90.0       1014.2       1011.8     21.4     20.9   \n",
      "29501          88.0         74.0       1008.3       1004.8     22.5     25.5   \n",
      "...             ...          ...          ...          ...      ...      ...   \n",
      "120895         89.0         60.0       1017.1       1013.8     13.0     18.5   \n",
      "120896         90.0         75.0       1005.6       1008.9     16.4     15.6   \n",
      "120897         85.0         65.0       1019.2       1019.4     15.1     18.0   \n",
      "120898         62.0         47.0       1025.9       1023.4     14.0     17.6   \n",
      "120899         75.0         49.0       1028.6       1026.0     11.5     15.6   \n",
      "\n",
      "       RainToday RainTomorrow  \n",
      "29497        Yes          Yes  \n",
      "29498        Yes          Yes  \n",
      "29499        Yes          Yes  \n",
      "29500        Yes          Yes  \n",
      "29501        Yes          Yes  \n",
      "...          ...          ...  \n",
      "120895        No          Yes  \n",
      "120896       Yes           No  \n",
      "120897        No           No  \n",
      "120898        No           No  \n",
      "120899        No           No  \n",
      "\n",
      "[18634 rows x 19 columns]\n"
     ]
    }
   ],
   "source": [
    "print(ds)"
   ]
  },
  {
   "cell_type": "code",
   "execution_count": 60,
   "metadata": {
    "collapsed": true
   },
   "outputs": [
    {
     "name": "stdout",
     "output_type": "stream",
     "text": [
      "             Date   Location  MinTemp  MaxTemp  Rainfall WindGustDir  \\\n",
      "65745  2008-07-01  Melbourne      9.5     15.4       2.0           W   \n",
      "65746  2008-07-02  Melbourne     11.0     14.5       0.6           W   \n",
      "65747  2008-07-03  Melbourne      8.4     14.1       1.4           W   \n",
      "65748  2008-07-04  Melbourne      9.1     14.5       0.6           E   \n",
      "65749  2008-07-05  Melbourne      4.3     15.5       0.0           N   \n",
      "...           ...        ...      ...      ...       ...         ...   \n",
      "68175  2017-06-21  Melbourne      7.8     13.5       0.6         NNW   \n",
      "68176  2017-06-22  Melbourne      6.7     14.1       0.2           N   \n",
      "68177  2017-06-23  Melbourne      7.4     14.9       0.0         NNW   \n",
      "68178  2017-06-24  Melbourne      8.3     12.3       1.4          SW   \n",
      "68179  2017-06-25  Melbourne      8.6     14.3       0.0          NW   \n",
      "\n",
      "       WindGustSpeed WindDir9am WindDir3pm  WindSpeed9am  WindSpeed3pm  \\\n",
      "65745           63.0          W          W          37.0          35.0   \n",
      "65746           63.0          W        WSW          30.0          35.0   \n",
      "65747           39.0          W          W          17.0          24.0   \n",
      "65748           19.0        NNW          N           9.0           7.0   \n",
      "65749           52.0          N        NNE          24.0          30.0   \n",
      "...              ...        ...        ...           ...           ...   \n",
      "68175           24.0          W          S           2.0           9.0   \n",
      "68176           24.0        NNE          N           9.0          11.0   \n",
      "68177           44.0          N          N          17.0          19.0   \n",
      "68178           30.0        WNW          S          11.0           2.0   \n",
      "68179           35.0          N        NNW          13.0          17.0   \n",
      "\n",
      "       Humidity9am  Humidity3pm  Pressure9am  Pressure3pm  Temp9am  Temp3pm  \\\n",
      "65745         60.0         38.0       1006.8       1010.3     11.0     14.6   \n",
      "65746         66.0         52.0       1013.4       1016.2     11.8     13.7   \n",
      "65747         72.0         58.0       1024.8       1024.3     10.6     13.9   \n",
      "65748         87.0         49.0       1030.2       1029.0     10.2     13.1   \n",
      "65749         81.0         52.0       1028.9       1024.9      5.5     14.6   \n",
      "...            ...          ...          ...          ...      ...      ...   \n",
      "68175        100.0         80.0       1028.8       1028.4     11.2     12.7   \n",
      "68176         93.0         56.0       1028.2       1024.8      7.5     13.5   \n",
      "68177         77.0         63.0       1018.8       1013.8      9.1     12.5   \n",
      "68178         75.0         63.0       1018.7       1017.4      9.6     11.2   \n",
      "68179         67.0         56.0       1017.4       1015.0      9.3     13.4   \n",
      "\n",
      "      RainToday RainTomorrow  \n",
      "65745       Yes           No  \n",
      "65746        No          Yes  \n",
      "65747       Yes           No  \n",
      "65748        No           No  \n",
      "65749        No           No  \n",
      "...         ...          ...  \n",
      "68175        No           No  \n",
      "68176        No           No  \n",
      "68177        No          Yes  \n",
      "68178       Yes           No  \n",
      "68179        No          Yes  \n",
      "\n",
      "[2435 rows x 19 columns]\n"
     ]
    }
   ],
   "source": [
    "melbourne = df.loc[df.Location == 'Melbourne']\n",
    "print(melbourne)"
   ]
  },
  {
   "cell_type": "code",
   "execution_count": 59,
   "metadata": {
    "collapsed": true
   },
   "outputs": [
    {
     "name": "stdout",
     "output_type": "stream",
     "text": [
      "             Date Location  MinTemp  MaxTemp  Rainfall WindGustDir  \\\n",
      "29497  2008-02-01   Sydney     19.5     22.4      15.6         NaN   \n",
      "29498  2008-02-02   Sydney     19.5     25.6       6.0         NaN   \n",
      "29499  2008-02-03   Sydney     21.6     24.5       6.6         NaN   \n",
      "29500  2008-02-04   Sydney     20.2     22.8      18.8         NaN   \n",
      "29501  2008-02-05   Sydney     19.7     25.7      77.4         NaN   \n",
      "...           ...      ...      ...      ...       ...         ...   \n",
      "32829  2017-06-21   Sydney      8.6     19.6       0.0         SSE   \n",
      "32830  2017-06-22   Sydney      9.3     19.2       0.0           W   \n",
      "32831  2017-06-23   Sydney      9.4     17.7       0.0           W   \n",
      "32832  2017-06-24   Sydney     10.1     19.3       0.0           W   \n",
      "32833  2017-06-25   Sydney      7.6     19.3       0.0           W   \n",
      "\n",
      "       WindGustSpeed WindDir9am WindDir3pm  WindSpeed9am  WindSpeed3pm  \\\n",
      "29497            NaN          S        SSW          17.0          20.0   \n",
      "29498            NaN          W          E           9.0          13.0   \n",
      "29499            NaN        ESE        ESE          17.0           2.0   \n",
      "29500            NaN        NNE          E          22.0          20.0   \n",
      "29501            NaN        NNE          W          11.0           6.0   \n",
      "...              ...        ...        ...           ...           ...   \n",
      "32829           37.0          W        SSE          22.0          20.0   \n",
      "32830           30.0          W        ESE          20.0           7.0   \n",
      "32831           24.0        WNW          N          15.0          13.0   \n",
      "32832           43.0          W          W          17.0          19.0   \n",
      "32833           35.0          W          W          13.0          13.0   \n",
      "\n",
      "       Humidity9am  Humidity3pm  Pressure9am  Pressure3pm  Temp9am  Temp3pm  \\\n",
      "29497         92.0         84.0       1017.6       1017.4     20.7     20.9   \n",
      "29498         83.0         73.0       1017.9       1016.4     22.4     24.8   \n",
      "29499         88.0         86.0       1016.7       1015.6     23.5     23.0   \n",
      "29500         83.0         90.0       1014.2       1011.8     21.4     20.9   \n",
      "29501         88.0         74.0       1008.3       1004.8     22.5     25.5   \n",
      "...            ...          ...          ...          ...      ...      ...   \n",
      "32829         73.0         52.0       1025.9       1025.3     10.5     17.9   \n",
      "32830         78.0         53.0       1028.5       1024.6     11.0     18.7   \n",
      "32831         85.0         56.0       1020.8       1015.0     10.2     17.3   \n",
      "32832         56.0         35.0       1017.3       1015.1     12.4     19.0   \n",
      "32833         73.0         32.0       1018.6       1015.4      9.4     18.8   \n",
      "\n",
      "      RainToday RainTomorrow  \n",
      "29497       Yes          Yes  \n",
      "29498       Yes          Yes  \n",
      "29499       Yes          Yes  \n",
      "29500       Yes          Yes  \n",
      "29501       Yes          Yes  \n",
      "...         ...          ...  \n",
      "32829        No           No  \n",
      "32830        No           No  \n",
      "32831        No           No  \n",
      "32832        No           No  \n",
      "32833        No           No  \n",
      "\n",
      "[3337 rows x 19 columns]\n"
     ]
    }
   ],
   "source": [
    "sydney = df.loc[df.Location == 'Sydney']\n",
    "print(sydney)"
   ]
  },
  {
   "cell_type": "code",
   "execution_count": 58,
   "metadata": {
    "collapsed": true
   },
   "outputs": [
    {
     "name": "stdout",
     "output_type": "stream",
     "text": [
      "             Date Location  MinTemp  MaxTemp  Rainfall WindGustDir  \\\n",
      "29497  2008-02-01   Sydney     19.5     22.4      15.6         NaN   \n",
      "29498  2008-02-02   Sydney     19.5     25.6       6.0         NaN   \n",
      "29499  2008-02-03   Sydney     21.6     24.5       6.6         NaN   \n",
      "29500  2008-02-04   Sydney     20.2     22.8      18.8         NaN   \n",
      "29501  2008-02-05   Sydney     19.7     25.7      77.4         NaN   \n",
      "29502  2008-02-06   Sydney     20.2     27.2       1.6         NaN   \n",
      "29503  2008-02-07   Sydney     18.6     26.3       6.2         NaN   \n",
      "29504  2008-02-08   Sydney     17.2     22.3      27.6         NaN   \n",
      "29505  2008-02-09   Sydney     16.4     20.8      12.6         NaN   \n",
      "29506  2008-02-10   Sydney     14.6     24.2       8.8         NaN   \n",
      "29507  2008-02-11   Sydney     16.4     23.9       0.0         NaN   \n",
      "29508  2008-02-12   Sydney     18.9     27.3       0.0         NaN   \n",
      "29509  2008-02-13   Sydney     18.4     22.8      14.4         NaN   \n",
      "29510  2008-02-14   Sydney     16.9     24.3       3.0         NaN   \n",
      "29511  2008-02-15   Sydney     18.3     24.4       0.0         NaN   \n",
      "29512  2008-02-16   Sydney     16.7     24.1       0.0         NaN   \n",
      "29513  2008-02-17   Sydney     19.5     24.8       0.0         NaN   \n",
      "29514  2008-02-18   Sydney     18.6     25.3       0.0         NaN   \n",
      "29515  2008-02-19   Sydney     19.0     24.8       0.0         NaN   \n",
      "29516  2008-02-20   Sydney     18.3     26.4       0.0         NaN   \n",
      "29517  2008-02-21   Sydney     20.6     26.8       0.0         NaN   \n",
      "29518  2008-02-22   Sydney     19.1     25.4       0.4         NaN   \n",
      "29519  2008-02-23   Sydney     20.5     26.0       0.0         NaN   \n",
      "29520  2008-02-24   Sydney     16.5     28.3       0.0         NaN   \n",
      "29521  2008-02-25   Sydney     20.5     24.2       0.0         NaN   \n",
      "29522  2008-02-26   Sydney     19.3     26.2       0.0         NaN   \n",
      "29523  2008-02-27   Sydney     19.0     29.0      22.2         NaN   \n",
      "29524  2008-02-28   Sydney     17.9     21.4       4.2         NaN   \n",
      "29525  2008-02-29   Sydney     14.7     20.6      33.0         NaN   \n",
      "\n",
      "       WindGustSpeed WindDir9am WindDir3pm  WindSpeed9am  WindSpeed3pm  \\\n",
      "29497            NaN          S        SSW          17.0          20.0   \n",
      "29498            NaN          W          E           9.0          13.0   \n",
      "29499            NaN        ESE        ESE          17.0           2.0   \n",
      "29500            NaN        NNE          E          22.0          20.0   \n",
      "29501            NaN        NNE          W          11.0           6.0   \n",
      "29502            NaN          W        ENE           9.0          22.0   \n",
      "29503            NaN          W          S          15.0          15.0   \n",
      "29504            NaN          S         SE           7.0          15.0   \n",
      "29505            NaN        SSW          W          19.0           9.0   \n",
      "29506            NaN          W        SSE          11.0          20.0   \n",
      "29507            NaN        WNW          E           9.0          26.0   \n",
      "29508            NaN          N         NE           7.0          24.0   \n",
      "29509            NaN          S          S          24.0          30.0   \n",
      "29510            NaN        SSW        SSE          15.0          19.0   \n",
      "29511            NaN         SW        SSE          19.0          22.0   \n",
      "29512            NaN        WNW        SSE          11.0          26.0   \n",
      "29513            NaN         SE        ESE          13.0          24.0   \n",
      "29514            NaN        SSE        ENE          13.0          24.0   \n",
      "29515            NaN        WNW          E           7.0          17.0   \n",
      "29516            NaN          W          E          13.0          22.0   \n",
      "29517            NaN        WNW         SE           4.0          15.0   \n",
      "29518            NaN        WNW          E          11.0          28.0   \n",
      "29519            NaN        WSW        ESE          20.0          24.0   \n",
      "29520            NaN        WNW        ESE          11.0          24.0   \n",
      "29521            NaN          E          E          15.0          20.0   \n",
      "29522            NaN        WSW          E           2.0          28.0   \n",
      "29523            NaN        NaN        NNE           0.0          15.0   \n",
      "29524            NaN          S        ESE          20.0           9.0   \n",
      "29525            NaN         SW          S          24.0          28.0   \n",
      "\n",
      "       Humidity9am  Humidity3pm  Pressure9am  Pressure3pm  Temp9am  Temp3pm  \\\n",
      "29497         92.0         84.0       1017.6       1017.4     20.7     20.9   \n",
      "29498         83.0         73.0       1017.9       1016.4     22.4     24.8   \n",
      "29499         88.0         86.0       1016.7       1015.6     23.5     23.0   \n",
      "29500         83.0         90.0       1014.2       1011.8     21.4     20.9   \n",
      "29501         88.0         74.0       1008.3       1004.8     22.5     25.5   \n",
      "29502         69.0         62.0       1002.7        998.6     23.8     26.0   \n",
      "29503         75.0         80.0        999.0       1000.3     21.7     22.3   \n",
      "29504         77.0         61.0       1008.3       1007.4     18.9     21.1   \n",
      "29505         92.0         91.0       1006.4       1007.6     17.1     16.5   \n",
      "29506         80.0         53.0       1014.0       1013.4     17.2     23.3   \n",
      "29507         78.0         53.0       1017.6       1015.3     18.9     23.7   \n",
      "29508         68.0         67.0       1010.7       1007.5     22.9     24.7   \n",
      "29509         87.0         70.0       1009.2       1011.7     20.9     21.0   \n",
      "29510         81.0         51.0       1017.2       1016.5     18.4     23.3   \n",
      "29511         80.0         56.0       1020.2       1018.9     19.5     23.8   \n",
      "29512         77.0         52.0       1023.0       1022.6     19.8     23.3   \n",
      "29513         63.0         62.0       1024.7       1023.1     21.8     23.4   \n",
      "29514         70.0         59.0       1021.7       1019.4     21.2     23.8   \n",
      "29515         79.0         65.0       1018.0       1015.4     20.8     23.4   \n",
      "29516         80.0         60.0       1013.4       1010.8     21.3     25.2   \n",
      "29517         86.0         62.0       1011.4       1009.7     22.1     24.9   \n",
      "29518         77.0         66.0       1009.2       1003.1     22.3     24.9   \n",
      "29519         38.0         45.0       1007.4       1007.0     22.5     24.0   \n",
      "29520         48.0         40.0       1007.9       1008.0     21.2     26.1   \n",
      "29521         58.0         54.0       1017.5       1016.9     21.6     23.5   \n",
      "29522         73.0         65.0       1018.3       1015.6     23.0     25.8   \n",
      "29523         82.0         52.0       1014.1       1010.6     21.3     24.7   \n",
      "29524         77.0         88.0       1010.0       1010.1     20.4     19.2   \n",
      "29525         65.0         51.0       1015.3       1015.6     17.1     19.9   \n",
      "\n",
      "      RainToday RainTomorrow  \n",
      "29497       Yes          Yes  \n",
      "29498       Yes          Yes  \n",
      "29499       Yes          Yes  \n",
      "29500       Yes          Yes  \n",
      "29501       Yes          Yes  \n",
      "29502       Yes          Yes  \n",
      "29503       Yes          Yes  \n",
      "29504       Yes          Yes  \n",
      "29505       Yes          Yes  \n",
      "29506       Yes           No  \n",
      "29507        No           No  \n",
      "29508        No          Yes  \n",
      "29509       Yes          Yes  \n",
      "29510       Yes           No  \n",
      "29511        No           No  \n",
      "29512        No           No  \n",
      "29513        No           No  \n",
      "29514        No           No  \n",
      "29515        No           No  \n",
      "29516        No           No  \n",
      "29517        No           No  \n",
      "29518        No           No  \n",
      "29519        No           No  \n",
      "29520        No           No  \n",
      "29521        No           No  \n",
      "29522        No          Yes  \n",
      "29523       Yes          Yes  \n",
      "29524       Yes          Yes  \n",
      "29525       Yes           No  \n"
     ]
    }
   ],
   "source": [
    "print(sydney.loc[(sydney.Date>= '2008-02-01') & (sydney.Date<= '2008-02-31')])"
   ]
  },
  {
   "cell_type": "code",
   "execution_count": 66,
   "metadata": {},
   "outputs": [],
   "source": [
    "avg_temp = []\n",
    "for i in range(1,10):\n",
    "    m = sydney.loc[(sydney.Date>= '2009-0'+str(i)+'-01') & (sydney.Date<= '2009-0'+str(i)+'-31')]\n",
    "    avg_temp.append(m['MaxTemp'].sum()/m.shape[0])\n",
    "for i in range(0,3):\n",
    "    m = sydney.loc[(sydney.Date>= '2009-1'+str(i)+'-01') & (sydney.Date<= '2009-1'+str(i)+'-31')]\n",
    "    avg_temp.append(m['MaxTemp'].sum()/m.shape[0])                                                            "
   ]
  },
  {
   "cell_type": "code",
   "execution_count": 67,
   "metadata": {},
   "outputs": [
    {
     "name": "stdout",
     "output_type": "stream",
     "text": [
      "[27.570967741935483, 25.714285714285715, 25.42258064516129, 22.773333333333333, 20.71290322580645, 17.853333333333335, 18.258064516129032, 20.874193548387098, 23.05, 21.399999999999995, 26.053333333333335, 23.767741935483876]\n"
     ]
    }
   ],
   "source": [
    "print(avg_temp)"
   ]
  },
  {
   "cell_type": "code",
   "execution_count": 68,
   "metadata": {},
   "outputs": [],
   "source": [
    "avg_temp = []\n",
    "for i in range(1,10):\n",
    "    m = sydney.loc[(sydney.Date>= '2010-0'+str(i)+'-01') & (sydney.Date<= '2010-0'+str(i)+'-31')]\n",
    "    avg_temp.append(m['MaxTemp'].sum()/m.shape[0])\n",
    "for i in range(0,3):\n",
    "    m = sydney.loc[(sydney.Date>= '2010-1'+str(i)+'-01') & (sydney.Date<= '2010-1'+str(i)+'-31')]\n",
    "    avg_temp.append(m['MaxTemp'].sum()/m.shape[0])    "
   ]
  },
  {
   "cell_type": "code",
   "execution_count": 69,
   "metadata": {},
   "outputs": [
    {
     "name": "stdout",
     "output_type": "stream",
     "text": [
      "[27.600000000000005, 27.385714285714293, 25.719354838709677, 24.619999999999997, 20.61935483870968, 17.720689655172414, 17.06451612903226, 18.26451612903226, 20.963333333333335, 22.05666666666667, 23.393103448275866, 25.79032258064516]\n"
     ]
    }
   ],
   "source": [
    "print(avg_temp)"
   ]
  },
  {
   "cell_type": "code",
   "execution_count": 70,
   "metadata": {},
   "outputs": [],
   "source": [
    "avg_temp = []\n",
    "for i in range(1,10):\n",
    "    m = sydney.loc[(sydney.Date>= '2016-0'+str(i)+'-01') & (sydney.Date<= '2016-0'+str(i)+'-31')]\n",
    "    avg_temp.append(m['MaxTemp'].sum()/m.shape[0])\n",
    "for i in range(0,3):\n",
    "    m = sydney.loc[(sydney.Date>= '2016-1'+str(i)+'-01') & (sydney.Date<= '2016-1'+str(i)+'-31')]\n",
    "    avg_temp.append(m['MaxTemp'].sum()/m.shape[0])    "
   ]
  },
  {
   "cell_type": "code",
   "execution_count": 71,
   "metadata": {},
   "outputs": [
    {
     "name": "stdout",
     "output_type": "stream",
     "text": [
      "[27.40967741935484, 28.20689655172414, 26.770967741935486, 24.74666666666667, 22.88064516129032, 18.949999999999996, 18.53870967741935, 19.148387096774194, 21.43333333333333, 23.887096774193548, 26.130000000000003, 28.129032258064512]\n"
     ]
    }
   ],
   "source": [
    "print(avg_temp)"
   ]
  },
  {
   "cell_type": "code",
   "execution_count": 73,
   "metadata": {},
   "outputs": [
    {
     "data": {
      "image/png": "[encoded data removed]",
      "text/plain": [
       "<Figure size 432x288 with 1 Axes>"
      ]
     },
     "metadata": {
      "needs_background": "light"
     },
     "output_type": "display_data"
    }
   ],
   "source": [
    "avg_temp = [avg_temp[-1]] + avg_temp[:-1]\n",
    "\n",
    "x = ['Dec','Jan','Feb','Mar','Apr','May','Jun','July','Aug','Sept','Oct','Nov']\n",
    "plt.plot(x, avg_temp) \n",
    "  \n",
    "# naming the x axis \n",
    "plt.xlabel('Month - 2016') \n",
    "# naming the y axis \n",
    "plt.ylabel('Max_temp') \n",
    "  \n",
    "# giving a title to my graph \n",
    "plt.title('Temperature graph') \n",
    "  \n",
    "# function to show the plot \n",
    "plt.show() "
   ]
  },
  {
   "cell_type": "code",
   "execution_count": 78,
   "metadata": {},
   "outputs": [
    {
     "name": "stdout",
     "output_type": "stream",
     "text": [
      "[[25.838709677419356, 26.858064516129026, 26.239285714285717, 26.367741935483874, 23.843333333333337, 23.158064516129027, 19.59333333333333, 18.951612903225808, 18.34193548387097, 21.886206896551723, 24.536666666666665, 25.982142857142858], [26.100000000000005, 27.535483870967738, 27.01785714285714, 26.8, 22.69333333333333, 20.65483870967742, 18.613333333333333, 17.425806451612903, 19.38064516129032, 20.666666666666668, 24.94193548387097, 26.163333333333334], [28.129032258064512, 27.40967741935484, 28.20689655172414, 26.770967741935486, 24.74666666666667, 22.88064516129032, 18.949999999999996, 18.53870967741935, 19.148387096774194, 21.43333333333333, 23.887096774193548, 26.130000000000003]]\n"
     ]
    }
   ],
   "source": [
    "over_years = []\n",
    "for j in range(0,7):\n",
    "    avg_temp = []\n",
    "    for i in range(1,10):\n",
    "        m = sydney.loc[(sydney.Date>= '201'+str(j)+'-0'+str(i)+'-01') & (sydney.Date<= '201'+str(j)+'-0'+str(i)+'-31')]\n",
    "        avg_temp.append(m['MaxTemp'].sum()/m.shape[0])\n",
    "    for i in range(0,3):\n",
    "        m = sydney.loc[(sydney.Date>= '201'+str(j)+'-1'+str(i)+'-01') & (sydney.Date<= '201'+str(j)+'-1'+str(i)+'-31')]\n",
    "        avg_temp.append(m['MaxTemp'].sum()/m.shape[0])\n",
    "    avg_temp = [avg_temp[-1]] + avg_temp[:-1]\n",
    "    over_years.append(avg_temp)\n",
    "print(over_years)\n",
    "    "
   ]
  },
  {
   "cell_type": "code",
   "execution_count": 79,
   "metadata": {},
   "outputs": [
    {
     "data": {
      "image/png": "[encoded data removed]",
      "text/plain": [
       "<Figure size 432x288 with 1 Axes>"
      ]
     },
     "metadata": {
      "needs_background": "light"
     },
     "output_type": "display_data"
    }
   ],
   "source": [
    "  \n",
    "for i in range(0,3):\n",
    "    \n",
    "    plt.plot(x, over_years[i], label = '201'+str(i+4)) \n",
    "\n",
    "    # naming the x axis \n",
    "    plt.xlabel('Month') \n",
    "    # naming the y axis \n",
    "    plt.ylabel('Max_temp') \n",
    "\n",
    "    # giving a title to my graph \n",
    "    plt.title('Temperature graph') \n",
    "\n",
    "# function to show the plot \n",
    "plt.legend()\n",
    "plt.show() "
   ]
  },
  {
   "cell_type": "code",
   "execution_count": null,
   "metadata": {},
   "outputs": [],
   "source": []
  }
 ],
 "metadata": {
  "kernelspec": {
   "display_name": "Python 3",
   "language": "python",
   "name": "python3"
  },
  "language_info": {
   "codemirror_mode": {
    "name": "ipython",
    "version": 3
   },
   "file_extension": ".py",
   "mimetype": "text/x-python",
   "name": "python",
   "nbconvert_exporter": "python",
   "pygments_lexer": "ipython3",
   "version": "3.7.4"
  }
 },
 "nbformat": 4,
 "nbformat_minor": 2
}
