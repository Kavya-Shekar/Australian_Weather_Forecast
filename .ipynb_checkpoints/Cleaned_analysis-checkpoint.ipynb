{
 "cells": [
  {
   "cell_type": "code",
   "execution_count": 156,
   "metadata": {
    "scrolled": false
   },
   "outputs": [],
   "source": [
    "# importing the dataset\n",
    "import pandas as pd\n",
    "import numpy as np\n",
    "import matplotlib.pyplot as plt\n",
    "%matplotlib inline\n",
    "import statistics as st\n",
    "\n",
    "df = pd.read_csv(\"dataset.csv\")"
   ]
  },
  {
   "cell_type": "code",
   "execution_count": 157,
   "metadata": {},
   "outputs": [],
   "source": [
    "# dropping these values as they have too many NaNs and zeros, not much to infer from them.\n",
    "df = df.drop(['Evaporation','Sunshine','RISK_MM','Cloud3pm','Cloud9am'],axis=1)"
   ]
  },
  {
   "cell_type": "code",
   "execution_count": 158,
   "metadata": {
    "collapsed": true
   },
   "outputs": [
    {
     "name": "stdout",
     "output_type": "stream",
     "text": [
      "['Albury' 'BadgerysCreek' 'Cobar' 'CoffsHarbour' 'Moree' 'Newcastle'\n",
      " 'NorahHead' 'NorfolkIsland' 'Penrith' 'Richmond' 'Sydney' 'SydneyAirport'\n",
      " 'WaggaWagga' 'Williamtown' 'Wollongong' 'Canberra' 'Tuggeranong'\n",
      " 'MountGinini' 'Ballarat' 'Bendigo' 'Sale' 'MelbourneAirport' 'Melbourne'\n",
      " 'Mildura' 'Nhil' 'Portland' 'Watsonia' 'Dartmoor' 'Brisbane' 'Cairns'\n",
      " 'GoldCoast' 'Townsville' 'Adelaide' 'MountGambier' 'Nuriootpa' 'Woomera'\n",
      " 'Albany' 'Witchcliffe' 'PearceRAAF' 'PerthAirport' 'Perth' 'SalmonGums'\n",
      " 'Walpole' 'Hobart' 'Launceston' 'AliceSprings' 'Darwin' 'Katherine'\n",
      " 'Uluru']\n"
     ]
    }
   ],
   "source": [
    "# Available locations\n",
    "print(df.Location.unique())"
   ]
  },
  {
   "cell_type": "code",
   "execution_count": 159,
   "metadata": {},
   "outputs": [],
   "source": [
    "# Will be using only these location for our analysis\n",
    "locs = ['Sydney','Melbourne','Brisbane','Perth','Adelaide','Canberra','Hobart','Darwin','GoldCoast','Newcastle','Townsville']\n",
    "\n",
    "ds = df.loc[(df.Location == 'Sydney') | (df.Location == 'Melbourne') | (df.Location == 'Brisbane')\n",
    "            |(df.Location == 'Perth') |(df.Location == 'Adelaide') |(df.Location == 'Canberra')\n",
    "            |(df.Location == 'Hobart')|(df.Location == 'Darwin')|(df.Location == 'GoldCoast')\n",
    "            |(df.Location == 'NewCastle')|(df.Location == 'Townsville')]"
   ]
  },
  {
   "cell_type": "code",
   "execution_count": 160,
   "metadata": {
    "collapsed": true
   },
   "outputs": [
    {
     "name": "stdout",
     "output_type": "stream",
     "text": [
      "\n",
      "\n",
      " Sydney \n",
      "\n",
      "      Jan  Feb  March  Apr  May  June  July  Aug  Sept  Oct  Nov  Dec  total\n",
      "2007    0    0      0    0    0     0     0    0     0    0    0    0      0\n",
      "2008    0   29     31   30   31    30    31   31    30   31   30   31    335\n",
      "2009   31   28     31   30   31    30    31   31    30   31   30   31    365\n",
      "2010   31   28     31   30   31    29    31   31    30   30   29   31    362\n",
      "2011   31   28     31    0   31    30    31   31    30   31   30   31    335\n",
      "2012   31   29     31   30   31    30    31   31    30   31   30    0    335\n",
      "2013   31    0     31   30   31    30    31   31    30   31   30   31    337\n",
      "2014   31   28     31   30   31    30    31   31    29   30   28   31    361\n",
      "2015   31   28     31   30   31    30    31   31    30   31   30   31    365\n",
      "2016   31   29     31   30   31    30    31   31    30   31   30   31    366\n",
      "2017   31   28     31   30   31    25     0    0     0    0    0    0    176\n",
      "2018    0    0      0    0    0     0     0    0     0    0    0    0      0\n",
      "\n",
      "\n",
      " Melbourne \n",
      "\n",
      "      Jan  Feb  March  Apr  May  June  July  Aug  Sept  Oct  Nov  Dec  total\n",
      "2007    0    0      0    0    0     0     0    0     0    0    0    0      0\n",
      "2008    0    0      0    0    0     0    31   31    30   31   30   31    184\n",
      "2009   31   28     31   30   31    30    31   31    30   31   30   31    365\n",
      "2010   31   28     31   30   31    30    31   31    30   31   30   31    365\n",
      "2011   31   20     31    0   31    22    25   25    29   21   21   25    281\n",
      "2012   25   21     25   22   23    20    25   23    23   23   30    0    260\n",
      "2013   28    0     26   25   22    24    23   23    21   25   21   27    265\n",
      "2014   23   24     25   22   24    23    22   24    27   30   18   26    288\n",
      "2015    5    0      0    0    0     0     0    0     0    0    0    0      5\n",
      "2016    0    0      0    1   31    30    31   31    30   31   30   31    246\n",
      "2017   31   28     31   30   31    25     0    0     0    0    0    0    176\n",
      "2018    0    0      0    0    0     0     0    0     0    0    0    0      0\n",
      "\n",
      "\n",
      " Brisbane \n",
      "\n",
      "      Jan  Feb  March  Apr  May  June  July  Aug  Sept  Oct  Nov  Dec  total\n",
      "2007    0    0      0    0    0     0     0    0     0    0    0    0      0\n",
      "2008    0    0      0    0    0     0    31   31    30   30   30   31    183\n",
      "2009   30   28     31   30   31    29    31   31    30   31   29   31    362\n",
      "2010   31   28     30   29   29    30    31   31    30   31   30   31    361\n",
      "2011   31   28     30    0   31    29    30   31    30   31   29   31    331\n",
      "2012   30   29     31   30   31    30    31   31    30   31   30    0    334\n",
      "2013   30    0     31   30   31    30    31   31    30   31   30   31    336\n",
      "2014   31   27     31   30   30    30    31   30    30   31   30   31    362\n",
      "2015   30   27     31   29   28    30    31   31    29   31   30   31    358\n",
      "2016   30   27     31   30   31    30    31   31    30   31   30   31    363\n",
      "2017   30   27     29   29   31    25     0    0     0    0    0    0    171\n",
      "2018    0    0      0    0    0     0     0    0     0    0    0    0      0\n",
      "\n",
      "\n",
      " Perth \n",
      "\n",
      "      Jan  Feb  March  Apr  May  June  July  Aug  Sept  Oct  Nov  Dec  total\n",
      "2007    0    0      0    0    0     0     0    0     0    0    0    0      0\n",
      "2008    0    0      0    0    0     0    31   31    30   31   30   31    184\n",
      "2009   31   28     31   30   31    30    31   31    30   31   30   31    365\n",
      "2010   31   28     31   30   31    30    31   31    30   31   30   31    365\n",
      "2011   31   28     31    0   31    30    31   31    30   31   30   31    335\n",
      "2012   31   29     31   30   31    30    31   31    30   31   30    0    335\n",
      "2013   31    0     31   30   31    30    31   31    30   31   30   31    337\n",
      "2014   31   28     31   30   31    30    31   31    30   31   30   31    365\n",
      "2015   31   28     31   30   31    30    31   31    30   31   30   31    365\n",
      "2016   31   29     31   30   31    30    31   31    30   31   30   31    366\n",
      "2017   31   28     31   30   31    25     0    0     0    0    0    0    176\n",
      "2018    0    0      0    0    0     0     0    0     0    0    0    0      0\n",
      "\n",
      "\n",
      " Adelaide \n",
      "\n",
      "      Jan  Feb  March  Apr  May  June  July  Aug  Sept  Oct  Nov  Dec  total\n",
      "2007    0    0      0    0    0     0     0    0     0    0    0    0      0\n",
      "2008    0    0      0    0    0     0    25   25    28   27   30   31    166\n",
      "2009   31   28     31   30   31    30    31   30    28   31   30   31    362\n",
      "2010   31   28     31   30   30    29    29   29    30   31   30   31    359\n",
      "2011   31   27     31    0   31    29    29   26    30   31   30   30    325\n",
      "2012   30   29     31   29   23    28    31   30    30   30   30    0    321\n",
      "2013   28    0     28   27   27    28    31   29    27   27   28   27    307\n",
      "2014   30   28     26   30   27    30    31   31    30   31   29   28    351\n",
      "2015   31   28     31   30   28    30    31   31    30   31   29   30    360\n",
      "2016   31   29     31   30   31    30    31   31    30   31   30   31    366\n",
      "2017   31   27     30   30   31    24     0    0     0    0    0    0    173\n",
      "2018    0    0      0    0    0     0     0    0     0    0    0    0      0\n",
      "\n",
      "\n",
      " Canberra \n",
      "\n",
      "      Jan  Feb  March  Apr  May  June  July  Aug  Sept  Oct  Nov  Dec  total\n",
      "2007    0    0      0    0    0     0     0    0     0    0   30   31     61\n",
      "2008   31   29     31   30   31    30    31   31    30   31   30   31    366\n",
      "2009   31   28     31   30   31    30    31   31    30   31   30   31    365\n",
      "2010   31   28     31   30   31    30    31   31    30   31   30   30    364\n",
      "2011   31   28     30    0   31    28    30   31    27   31   30   30    327\n",
      "2012   31   29     31   30   31    29    31   31    30   31   30    0    334\n",
      "2013   31    0     31   30   31    30    31   31    30   31   30   31    337\n",
      "2014   31   27     31   30   30    30    31   31    30   31   30   31    363\n",
      "2015   31   28     29   30   31    30    31   30    30   30   30   31    361\n",
      "2016   31   29     31   30   31    30    31   31    30   31   30   31    366\n",
      "2017   31   28     29   30   31    25     0    0     0    0    0    0    174\n",
      "2018    0    0      0    0    0     0     0    0     0    0    0    0      0\n",
      "\n",
      "\n",
      " Hobart \n",
      "\n",
      "      Jan  Feb  March  Apr  May  June  July  Aug  Sept  Oct  Nov  Dec  total\n",
      "2007    0    0      0    0    0     0     0    0     0    0    0    0      0\n",
      "2008    0    0      0    0    0     0    31   31    30   31   30   31    184\n",
      "2009   31   28     31   30   31    30    31   31    30   31   30   31    365\n",
      "2010   31   28     31   30   31    30    31   31    30   31   30   31    365\n",
      "2011   31   28     30    0   31    30    31   31    30   31   30   31    334\n",
      "2012   31   29     31   30   31    30    31   31    30   31   30    0    335\n",
      "2013   31    0     31   30   31    30    31   31    30   31   30   31    337\n",
      "2014   31   28     31   30   31    30    30   31    30   30   30   31    363\n",
      "2015   30   28     31   30   31    30    30   31    30   31   30   31    363\n",
      "2016   31   29     31   30   31    30    31   31    30   31   30   31    366\n",
      "2017   31   28     31   30   31    25     0    0     0    0    0    0    176\n",
      "2018    0    0      0    0    0     0     0    0     0    0    0    0      0\n",
      "\n",
      "\n",
      " Darwin \n",
      "\n",
      "      Jan  Feb  March  Apr  May  June  July  Aug  Sept  Oct  Nov  Dec  total\n",
      "2007    0    0      0    0    0     0     0    0     0    0    0    0      0\n",
      "2008    0    0      0    0    0     0    31   31    30   31   30   31    184\n",
      "2009   31   28     31   30   31    30    31   31    30   31   30   31    365\n",
      "2010   31   28     31   30   31    30    31   31    30   31   30   31    365\n",
      "2011   31   28     31    0   31    30    31   31    30   31   30   31    335\n",
      "2012   31   29     31   30   31    30    31   31    30   31   30    0    335\n",
      "2013   31    0     31   30   31    30    31   31    30   31   30   31    337\n",
      "2014   31   28     31   30   31    30    31   31    30   31   30   31    365\n",
      "2015   31   28     31   30   31    30    31   31    30   31   30   31    365\n",
      "2016   31   29     31   30   31    30    31   31    30   31   30   31    366\n",
      "2017   31   28     31   30   31    24     0    0     0    0    0    0    175\n",
      "2018    0    0      0    0    0     0     0    0     0    0    0    0      0\n",
      "\n",
      "\n",
      " GoldCoast \n",
      "\n",
      "      Jan  Feb  March  Apr  May  June  July  Aug  Sept  Oct  Nov  Dec  total\n",
      "2007    0    0      0    0    0     0     0    0     0    0    0    0      0\n",
      "2008    0    0      0    0    0     0     0    0     0    0    0   30     30\n",
      "2009   31   28     31   30   31    30    31   31    30   30   30   30    363\n",
      "2010   31   28     31   30   30    30    31   31    30   31   30   31    364\n",
      "2011   31   28     31    0   31    30    31   31    30   31   30   31    335\n",
      "2012   31   29     31   30   31    30    31   31    30   31   30    0    335\n",
      "2013   31    0     31   30   31    30    31   31    30   31   30   31    337\n",
      "2014   31   27     31   30   30    29    29   30    29   30   30   31    357\n",
      "2015   29   26     28   28   30    27    31   31    29   31   29   31    350\n",
      "2016   25   27     25   29   30    29    29   29    28   28   28   31    338\n",
      "2017   29   25     31   30   31    25     0    0     0    0    0    0    171\n",
      "2018    0    0      0    0    0     0     0    0     0    0    0    0      0\n",
      "\n",
      "\n",
      " Newcastle \n",
      "\n"
     ]
    },
    {
     "name": "stdout",
     "output_type": "stream",
     "text": [
      "      Jan  Feb  March  Apr  May  June  July  Aug  Sept  Oct  Nov  Dec  total\n",
      "2007    0    0      0    0    0     0     0    0     0    0    0    0      0\n",
      "2008    0    0      0    0    0     0     0    0     0    0    0   31     31\n",
      "2009   31   28     31   30   31    30    31   31    30   31   30   31    365\n",
      "2010   31   28     31   30   31    30    31   31    30   25   30   31    359\n",
      "2011   31   28     26    0   31    30    31   31    25   31   30   31    325\n",
      "2012   31   29     20   30   31    30    26   31    30   31   29    0    318\n",
      "2013   31    0     31   25   24    30    31   31    30   31   30   31    325\n",
      "2014   31   28     28   26   31    30    31   31    30   31   30   30    357\n",
      "2015   31   28     27   28   31    30    31   31    29   29   29   31    355\n",
      "2016   31   21     31   30   31    30    31   31    30   30   30   28    354\n",
      "2017   31   28     30   22   31    24     0    0     0    0    0    0    166\n",
      "2018    0    0      0    0    0     0     0    0     0    0    0    0      0\n",
      "\n",
      "\n",
      " Townsville \n",
      "\n",
      "      Jan  Feb  March  Apr  May  June  July  Aug  Sept  Oct  Nov  Dec  total\n",
      "2007    0    0      0    0    0     0     0    0     0    0    0    0      0\n",
      "2008    0    0      0    0    0     0     0    0     0    0    0   31     31\n",
      "2009   31   28     31   30   31    30    31   31    30   31   30   31    365\n",
      "2010   31   28     31   30   31    30    31   31    30   31   30   31    365\n",
      "2011   31   27     31    0   31    30    31   31    30   31   30   31    334\n",
      "2012   31   29     31   30   31    30    31   31    30   31   30    0    335\n",
      "2013   31    0     31   30   31    30    31   31    30   31   30   31    337\n",
      "2014   31   28     31   30   31    30    31   31    30   31   30   31    365\n",
      "2015   31   28     31   30   31    30    31   31    30   31   30   31    365\n",
      "2016   31   29     31   30   31    30    31   31    29   31   30   29    363\n",
      "2017   30   28     30   30   31    24     0    0     0    0    0    0    173\n",
      "2018    0    0      0    0    0     0     0    0     0    0    0    0      0\n"
     ]
    }
   ],
   "source": [
    "# Data distribution in chosen location over the years 2007 - 2018\n",
    "years = ['2007','2008','2009','2010','2011','2012','2013','2014','2015','2016','2017','2018']\n",
    "months = ['Jan','Feb','March','Apr','May','June','July','Aug','Sept','Oct','Nov','Dec','total']\n",
    "count = pd.DataFrame([],index=years,columns=months)\n",
    "m = 0\n",
    "for i in locs:\n",
    "    print('\\n\\n',i,'\\n')\n",
    "    data = df.loc[df.Location == i]\n",
    "    for i in range(7,10):\n",
    "        count.loc['200'+str(i),'total'] = (data.loc[(data.Date>= '200'+str(i)+'-00-00') & \n",
    "                                                      (data.Date<= '200'+str(i)+'-13-32')]).shape[0]\n",
    "        for j in range(1,13):\n",
    "            if(j//10):   \n",
    "                count.loc['200'+str(i),months[j-1]] = (data.loc[(data.Date>= '200'+str(i)+'-'+str(j)+'-00') &\n",
    "                                                              (data.Date<= '200'+str(i)+'-'+str(j)+'-32')]).shape[0]\n",
    "            else:\n",
    "                count.loc['200'+str(i),months[j-1]] = (data.loc[(data.Date>= '200'+str(i)+'-0'+str(j)+'-00') &\n",
    "                                                              (data.Date<= '200'+str(i)+'-0'+str(j)+'-32')]).shape[0]\n",
    "\n",
    "    for i in range(0,9):\n",
    "        count.loc['201'+str(i),'total'] = (data.loc[(data.Date>= '201'+str(i)+'-00-00') & \n",
    "                                                      (data.Date<= '201'+str(i)+'-13-32')]).shape[0]\n",
    "        for j in range(1,13):\n",
    "            if(j//10):   \n",
    "                count.loc['201'+str(i),months[j-1]] = (data.loc[(data.Date>= '201'+str(i)+'-'+str(j)+'-00') &\n",
    "                                                              (data.Date<= '201'+str(i)+'-'+str(j)+'-32')]).shape[0]\n",
    "            else:\n",
    "                count.loc['201'+str(i),months[j-1]] = (data.loc[(data.Date>= '201'+str(i)+'-0'+str(j)+'-00') &\n",
    "                                                              (data.Date<= '201'+str(i)+'-0'+str(j)+'-32')]).shape[0]\n",
    "    print(count)\n",
    "    "
   ]
  },
  {
   "cell_type": "code",
   "execution_count": 161,
   "metadata": {},
   "outputs": [],
   "source": [
    "# collecting dataset of each location\n",
    "sydney = ds.loc[ds.Location == 'Sydney']\n",
    "melbourne = ds.loc[ds.Location == 'Melbourne']\n",
    "brisbane = ds.loc[ds.Location == 'Brisbane']\n",
    "perth = ds.loc[ds.Location == 'Perth']\n",
    "adelaide = ds.loc[ds.Location == 'Adelaide']\n",
    "canberra = ds.loc[ds.Location == 'Canberra']\n",
    "# print(sydney)"
   ]
  },
  {
   "cell_type": "code",
   "execution_count": 162,
   "metadata": {},
   "outputs": [],
   "source": [
    "# collecting data for each location over the years 2008 - 2017\n",
    "sydney = sydney.loc[(sydney.Date>= '2008-00-00') & (sydney.Date<= '2017-13-32')]\n",
    "melbourne = melbourne.loc[(melbourne.Date>= '2008-00-00') & (melbourne.Date<= '2017-13-32')]\n",
    "brisbane = brisbane.loc[(brisbane.Date>= '2008-00-00') & (brisbane.Date<= '2017-13-32')]\n",
    "perth = perth.loc[(perth.Date>= '2008-00-00') & (perth.Date<= '2017-13-32')]\n",
    "adelaide = adelaide.loc[(adelaide.Date>= '2008-00-00') & (adelaide.Date<= '2017-13-32')]\n",
    "canberra = canberra.loc[(canberra.Date>= '2008-00-00') & (canberra.Date<= '2017-13-32')]"
   ]
  },
  {
   "cell_type": "code",
   "execution_count": 163,
   "metadata": {
    "collapsed": true
   },
   "outputs": [
    {
     "data": {
      "text/plain": [
       "Date               0\n",
       "Location           0\n",
       "MinTemp            5\n",
       "MaxTemp            3\n",
       "Rainfall          16\n",
       "WindGustDir      329\n",
       "WindGustSpeed    327\n",
       "WindDir9am       536\n",
       "WindDir3pm       228\n",
       "WindSpeed9am     228\n",
       "WindSpeed3pm     223\n",
       "Humidity9am       61\n",
       "Humidity3pm       12\n",
       "Pressure9am      224\n",
       "Pressure3pm      220\n",
       "Temp9am           17\n",
       "Temp3pm            7\n",
       "RainToday         16\n",
       "RainTomorrow       0\n",
       "dtype: int64"
      ]
     },
     "execution_count": 163,
     "metadata": {},
     "output_type": "execute_result"
    }
   ],
   "source": [
    "nums = ['MinTemp','MaxTemp','Rainfall','WindGustSpeed','WindSpeed9am','WindSpeed3pm',\n",
    "        'Humidity9am','Humidity3pm','Pressure9am','Pressure3pm','Temp9am','Temp3pm']\n",
    "categs = ['WindGustDir','WindDir9am','WindDir3pm','RainToday','RainTomorrow']\n",
    "\n",
    "print(canberra.isna().sum())"
   ]
  },
  {
   "cell_type": "code",
   "execution_count": 164,
   "metadata": {
    "collapsed": true
   },
   "outputs": [
    {
     "data": {
      "text/plain": [
       "Date             0\n",
       "Location         0\n",
       "MinTemp          0\n",
       "MaxTemp          0\n",
       "Rainfall         0\n",
       "WindGustDir      0\n",
       "WindGustSpeed    0\n",
       "WindDir9am       0\n",
       "WindDir3pm       0\n",
       "WindSpeed9am     0\n",
       "WindSpeed3pm     0\n",
       "Humidity9am      0\n",
       "Humidity3pm      0\n",
       "Pressure9am      0\n",
       "Pressure3pm      0\n",
       "Temp9am          0\n",
       "Temp3pm          0\n",
       "RainToday        0\n",
       "RainTomorrow     0\n",
       "dtype: int64"
      ]
     },
     "execution_count": 164,
     "metadata": {},
     "output_type": "execute_result"
    }
   ],
   "source": [
    "# cleaning data\n",
    "\n",
    "# replacing numerical NaN values with the mean values.\n",
    "for i in nums:\n",
    "    sydney[i] = sydney[i].astype(float).interpolate()\n",
    "    melbourne[i] = melbourne[i].astype(float).interpolate()\n",
    "    brisbane[i] = brisbane[i].astype(float).interpolate()\n",
    "    perth[i] = perth[i].astype(float).interpolate()\n",
    "    adelaide[i] = adelaide[i].astype(float).interpolate()\n",
    "    canberra[i] = canberra[i].astype(float).interpolate()\n",
    "    \n",
    "# replcaing categorical NaN values with the previous values.\n",
    "sydney = sydney.fillna(method='ffill')\n",
    "sydney = sydney.fillna(method='ffill')\n",
    "melbourne = melbourne.fillna(method='ffill')\n",
    "brisbane = brisbane.fillna(method='ffill')\n",
    "perth = perth.fillna(method='ffill')\n",
    "adelaide = adelaide.fillna(method='ffill')\n",
    "canberra = canberra.fillna(method='ffill')\n",
    "\n",
    "print(canberra.isna().sum())"
   ]
  },
  {
   "cell_type": "code",
   "execution_count": 165,
   "metadata": {
    "collapsed": true
   },
   "outputs": [
    {
     "name": "stdout",
     "output_type": "stream",
     "text": [
      "             Date  Location  MinTemp  MaxTemp  Rainfall WindGustDir  \\\n",
      "0      2008-02-01    Sydney     19.5     22.4      15.6         NaN   \n",
      "1      2008-02-02    Sydney     19.5     25.6       6.0         NaN   \n",
      "2      2008-02-03    Sydney     21.6     24.5       6.6         NaN   \n",
      "3      2008-02-04    Sydney     20.2     22.8      18.8         NaN   \n",
      "4      2008-02-05    Sydney     19.7     25.7      77.4         NaN   \n",
      "...           ...       ...      ...      ...       ...         ...   \n",
      "18568  2017-06-21  Canberra     -2.4     14.7       0.2         WSW   \n",
      "18569  2017-06-22  Canberra     -0.4     13.9       0.0          NW   \n",
      "18570  2017-06-23  Canberra     -2.9     13.3       0.4         NNW   \n",
      "18571  2017-06-24  Canberra      0.1     14.4       0.0          NW   \n",
      "18572  2017-06-25  Canberra     -4.3     14.5       0.0         WNW   \n",
      "\n",
      "       WindGustSpeed WindDir9am WindDir3pm  WindSpeed9am  WindSpeed3pm  \\\n",
      "0                NaN          S        SSW          17.0          20.0   \n",
      "1                NaN          W          E           9.0          13.0   \n",
      "2                NaN        ESE        ESE          17.0           2.0   \n",
      "3                NaN        NNE          E          22.0          20.0   \n",
      "4                NaN        NNE          W          11.0           6.0   \n",
      "...              ...        ...        ...           ...           ...   \n",
      "18568           15.0          S         SW           6.0          11.0   \n",
      "18569           37.0        NNW        NNW           2.0          22.0   \n",
      "18570           35.0          N        NNW           7.0          22.0   \n",
      "18571           48.0          N         NW          20.0          28.0   \n",
      "18572           54.0         SE        WNW           9.0          28.0   \n",
      "\n",
      "       Humidity9am  Humidity3pm  Pressure9am  Pressure3pm  Temp9am  Temp3pm  \\\n",
      "0             92.0         84.0       1017.6       1017.4     20.7     20.9   \n",
      "1             83.0         73.0       1017.9       1016.4     22.4     24.8   \n",
      "2             88.0         86.0       1016.7       1015.6     23.5     23.0   \n",
      "3             83.0         90.0       1014.2       1011.8     21.4     20.9   \n",
      "4             88.0         74.0       1008.3       1004.8     22.5     25.5   \n",
      "...            ...          ...          ...          ...      ...      ...   \n",
      "18568         99.0         50.0       1029.2       1026.5      0.1     14.5   \n",
      "18569         99.0         56.0       1029.9       1025.6      4.0     13.3   \n",
      "18570         99.0         54.0       1022.2       1016.6      0.1     12.4   \n",
      "18571         68.0         45.0       1017.5       1016.2      9.1     13.0   \n",
      "18572         81.0         49.0       1018.9       1016.5      2.3     12.0   \n",
      "\n",
      "      RainToday RainTomorrow  \n",
      "0           Yes          Yes  \n",
      "1           Yes          Yes  \n",
      "2           Yes          Yes  \n",
      "3           Yes          Yes  \n",
      "4           Yes          Yes  \n",
      "...         ...          ...  \n",
      "18568        No           No  \n",
      "18569        No           No  \n",
      "18570        No           No  \n",
      "18571        No           No  \n",
      "18572        No           No  \n",
      "\n",
      "[18573 rows x 19 columns]\n"
     ]
    }
   ],
   "source": [
    "cleaned_data = pd.concat([sydney,melbourne,brisbane,perth,adelaide,canberra],ignore_index = True)\n",
    "print(cleaned_data)"
   ]
  },
  {
   "cell_type": "code",
   "execution_count": 166,
   "metadata": {
    "collapsed": true
   },
   "outputs": [
    {
     "name": "stderr",
     "output_type": "stream",
     "text": [
      "c:\\users\\kavya s\\appdata\\local\\programs\\python\\python37-32\\lib\\site-packages\\ipykernel_launcher.py:24: RuntimeWarning: invalid value encountered in double_scalars\n",
      "c:\\users\\kavya s\\appdata\\local\\programs\\python\\python37-32\\lib\\site-packages\\ipykernel_launcher.py:25: RuntimeWarning: invalid value encountered in double_scalars\n",
      "c:\\users\\kavya s\\appdata\\local\\programs\\python\\python37-32\\lib\\site-packages\\ipykernel_launcher.py:26: RuntimeWarning: invalid value encountered in double_scalars\n"
     ]
    }
   ],
   "source": [
    "# SYDNEY: TEMPERATURE AND RAINFALL VISUALIZATION\n",
    "\n",
    "years = ['2009','2010','2011','2012','2013','2014','2015','2016']\n",
    "months = ['Jan','Feb','March','Apr','May','June','July','Aug','Sept','Oct','Nov','Dec']\n",
    "Avg_temp = pd.DataFrame([],index=years,columns=months)\n",
    "Rains = pd.DataFrame([],index=years,columns=months)\n",
    "Humid = pd.DataFrame([],index=years,columns=months)\n",
    "avg_temp = []\n",
    "for i in range(1,13):\n",
    "    if(i//10):\n",
    "        m = sydney.loc[(sydney.Date>= '2009-'+str(i)+'-01') & (sydney.Date<= '2009-'+str(i)+'-31')]\n",
    "    else:\n",
    "        m = sydney.loc[(sydney.Date>= '2009-0'+str(i)+'-01') & (sydney.Date<= '2009-0'+str(i)+'-31')]\n",
    "    Avg_temp.loc['2009',months[i-1]] = m['MaxTemp'].sum()/m.shape[0]\n",
    "    Rains.loc['2009',months[i-1]] = m['Rainfall'].sum()/m.shape[0]\n",
    "    Humid.loc['2009',months[i-1]] = m['Humidity9am'].sum()/m.shape[0]\n",
    "    \n",
    "for j in range(0,7):\n",
    "    for i in range(1,13):\n",
    "        if(i//10):\n",
    "            m = sydney.loc[(sydney.Date>= '201'+str(j)+'-'+str(i)+'-01') & (sydney.Date<= '201'+str(j)+'-'+str(i)+'-31')]\n",
    "        else:\n",
    "            m = sydney.loc[(sydney.Date>= '201'+str(j)+'-0'+str(i)+'-01') & (sydney.Date<= '201'+str(j)+'-0'+str(i)+'-31')]\n",
    "        Avg_temp.loc['201'+str(j),months[i-1]] = m['MaxTemp'].sum()/m.shape[0]\n",
    "        Rains.loc['201'+str(j),months[i-1]] = m['Rainfall'].sum()/m.shape[0]\n",
    "        Humid.loc['201'+str(j),months[i-1]] = m['Humidity9am'].sum()/m.shape[0]\n",
    "        \n",
    "# cleaning avergae temperature and rainfall by interpolating the NaN values\n",
    "for i in months:\n",
    "    Avg_temp[i] = Avg_temp[i].astype(float).interpolate()\n",
    "    Rains[i] = Rains[i].astype(float).interpolate()\n",
    "    Humid[i] = Humid[i].astype(float).interpolate()\n",
    "           "
   ]
  },
  {
   "cell_type": "code",
   "execution_count": 310,
   "metadata": {},
   "outputs": [
    {
     "data": {
      "image/png": "[encoded data removed]",
      "text/plain": [
       "<Figure size 432x288 with 1 Axes>"
      ]
     },
     "metadata": {
      "needs_background": "light"
     },
     "output_type": "display_data"
    },
    {
     "name": "stdout",
     "output_type": "stream",
     "text": [
      "['Dec', 'Jan', 'Feb', 'March', 'Apr', 'May', 'June', 'July', 'Aug', 'Sept', 'Oct', 'Nov']\n"
     ]
    }
   ],
   "source": [
    "# Temperature analysis for Sydney\n",
    "\n",
    "cols = Avg_temp.columns.tolist()\n",
    "cols.insert(0, cols.pop(cols.index('Dec')))\n",
    "Avg_temp = Avg_temp.reindex(columns= cols)\n",
    "# print(cols)\n",
    "\n",
    "x = cols\n",
    "for i in range(10,17,3):\n",
    "    \n",
    "    plt.plot(x, Avg_temp.loc['20'+str(i),:], label = '20'+str(i)) \n",
    "    \n",
    "\n",
    "    # naming the x axis \n",
    "    plt.xlabel('Month') \n",
    "    # naming the y axis \n",
    "    plt.ylabel('Max_temp') \n",
    "\n",
    "    # giving a title to my graph \n",
    "    plt.title('Temperature graph') \n",
    "\n",
    "# function to show the plot \n",
    "plt.legend()\n",
    "plt.show() "
   ]
  },
  {
   "cell_type": "code",
   "execution_count": 211,
   "metadata": {},
   "outputs": [],
   "source": [
    "# # Humidity analysis for Sydney\n",
    "\n",
    "# cols = Humid.columns.tolist()\n",
    "# cols.insert(0, cols.pop(cols.index('Dec')))\n",
    "# Humid = Humid.reindex(columns= cols)\n",
    "# # print(Humid)\n",
    "\n",
    "# x = cols\n",
    "# for i in range(10,17,3):\n",
    "    \n",
    "#     plt.plot(x, Humid.loc['20'+str(i),:], label = '20'+str(i)) \n",
    "\n",
    "#     # naming the x axis \n",
    "#     plt.xlabel('Month') \n",
    "#     # naming the y axis \n",
    "#     plt.ylabel('Average Humidity') \n",
    "\n",
    "#     # giving a title to my graph \n",
    "#     plt.title('Humidity graph') \n",
    "\n",
    "# # function to show the plot \n",
    "# plt.legend()\n",
    "# plt.show() "
   ]
  },
  {
   "cell_type": "code",
   "execution_count": 311,
   "metadata": {},
   "outputs": [
    {
     "data": {
      "image/png": "[encoded data removed]",
      "text/plain": [
       "<Figure size 432x288 with 1 Axes>"
      ]
     },
     "metadata": {
      "needs_background": "light"
     },
     "output_type": "display_data"
    },
    {
     "name": "stdout",
     "output_type": "stream",
     "text": [
      "['Dec', 'Jan', 'Feb', 'March', 'Apr', 'May', 'June', 'July', 'Aug', 'Sept', 'Oct', 'Nov']\n"
     ]
    }
   ],
   "source": [
    "# Rainfall analysis for Sydney\n",
    "\n",
    "# Rainfall in Australia is highly variable, largely because \n",
    "# of large-scale atmospheric and oceanic drivers that affect the region.\n",
    "\n",
    "# print(Rains)\n",
    "cols = Rains.columns.tolist()\n",
    "cols.insert(0, cols.pop(cols.index('Dec')))\n",
    "Rains = Rains.reindex(columns= cols)\n",
    "# print(cols)\n",
    "\n",
    "x = cols\n",
    "for i in range(10,17,3):\n",
    "    \n",
    "    plt.plot(x, Rains.loc['20'+str(i),:], label = '20'+str(i)) \n",
    "\n",
    "    # naming the x axis \n",
    "    plt.xlabel('Month') \n",
    "    # naming the y axis \n",
    "    plt.ylabel('Average Rainfall') \n",
    "\n",
    "    # giving a title to my graph \n",
    "    plt.title('Rainfall graph') \n",
    "\n",
    "# function to show the plot \n",
    "plt.legend()\n",
    "plt.show() "
   ]
  },
  {
   "cell_type": "code",
   "execution_count": 214,
   "metadata": {
    "collapsed": true
   },
   "outputs": [
    {
     "name": "stdout",
     "output_type": "stream",
     "text": [
      "              2009     2010     2011     2012     2013     2014     2015  \\\n",
      "Sydney     2.61973  3.19917  3.47164  3.37194  3.49852  2.48753   3.6663   \n",
      "Melbourne  1.27342  2.12767   3.1089  2.47192  2.51472  1.88125     1.12   \n",
      "Brisbane   2.95912  4.57673  3.25982  3.39671  2.53423  2.18453  4.09916   \n",
      "Perth       1.6663  1.38027  2.51164  1.75522  2.31929  1.84767   1.6926   \n",
      "Adelaide   1.44199  1.70613  1.56615  1.63956  1.61726  1.54046  1.09917   \n",
      "Canberra   1.20603  2.63681  1.71804  2.03533  1.49496  1.47493  1.51717   \n",
      "\n",
      "              2016     total  \n",
      "Sydney     3.78579  3.262578  \n",
      "Melbourne  1.88374  1.820180  \n",
      "Brisbane   2.04187  2.783574  \n",
      "Perth      1.95574  1.680971  \n",
      "Adelaide   2.24262  1.428149  \n",
      "Canberra   2.15355  1.581870  \n"
     ]
    }
   ],
   "source": [
    "# Rainfall distribution for Australia in specific locations\n",
    "\n",
    "locs = ['Sydney','Melbourne','Brisbane','Perth','Adelaide','Canberra']\n",
    "years = ['2009','2010','2011','2012','2013','2014','2015','2016']\n",
    "\n",
    "rainfall = pd.DataFrame([],columns=years,index=locs)\n",
    "\n",
    "for i in years:\n",
    "    for j in locs:\n",
    "        m = cleaned_data.loc[(cleaned_data.Location == j) & (cleaned_data.Date>= str(i)+'-00-01') & (cleaned_data.Date<= str(i)+'-13-31')]\n",
    "        rainfall.loc[j,str(i)] = m['Rainfall'].sum()/m.shape[0]\n",
    "\n",
    "for i in locs:\n",
    "    m = rainfall.loc[i,:]\n",
    "    rainfall.loc[i,'total'] = (m.sum()/m.shape[0])\n",
    "print(rainfall)\n"
   ]
  },
  {
   "cell_type": "code",
   "execution_count": 299,
   "metadata": {
    "scrolled": true
   },
   "outputs": [
    {
     "data": {
      "image/png": "[encoded data removed]",
      "text/plain": [
       "<Figure size 432x288 with 1 Axes>"
      ]
     },
     "metadata": {},
     "output_type": "display_data"
    }
   ],
   "source": [
    "# Pie chart for rainfall distribution\n",
    "\n",
    "plt.pie(\n",
    "    # using data total)arrests\n",
    "    rainfall['total'],\n",
    "    # with the labels being officer names\n",
    "    labels=locs,\n",
    "    # with no shadows\n",
    "    shadow=True,\n",
    "    # with colors\n",
    "#     colors=colors,\n",
    "    # with one slide exploded out\n",
    "    explode=(0.1,0, 0, 0, 0, 0),\n",
    "    # with the start angle at 90%\n",
    "    startangle=90,\n",
    "    # with the percent listed as a fraction\n",
    "    autopct='%1.1f%%',\n",
    "    )\n",
    "\n",
    "# View the plot drop above\n",
    "plt.axis('equal')\n",
    "\n",
    "# View the plot\n",
    "plt.tight_layout()\n",
    "plt.show()"
   ]
  },
  {
   "cell_type": "code",
   "execution_count": 180,
   "metadata": {},
   "outputs": [],
   "source": [
    "# Pie chart for rainfall distribution over all locations\n",
    "\n",
    "# df1 = df[['Date','Location','Rainfall']]\n",
    "# print(df1.isna().sum())\n",
    "# df1['Rainfall'] = df1['Rainfall'].astype('float').interpolate()\n",
    "# # df1.isna().sum()\n",
    "# # print(df1)\n",
    "\n",
    "# locations = df1.Location.unique()\n",
    "\n",
    "# rf = pd.DataFrame([],columns=years,index=locations)\n",
    "\n",
    "# for i in years:\n",
    "#     for j in locations:\n",
    "#         m = df1.loc[(df1.Location == j) & (df1.Date>= str(i)+'-00-01') & (df1.Date<= str(i)+'-13-31')]\n",
    "#         rf.loc[j,str(i)] = m['Rainfall'].sum()/m.shape[0]\n",
    "\n",
    "# for i in locations:\n",
    "#     m = rf.loc[i,:]\n",
    "#     rf.loc[i,'total'] = (m.sum()/m.shape[0])\n",
    "\n",
    "# plt.pie(\n",
    "#     # using data total)arrests\n",
    "#     rf['total'],\n",
    "#     # with the labels being officer names\n",
    "#     labels=locations,\n",
    "#     # with no shadows\n",
    "#     shadow=True,\n",
    "# #     with the start angle at 90%\n",
    "#     startangle=90,\n",
    "# #     with the percent listed as a fraction\n",
    "#     autopct='%1.1f%%',\n",
    "#     )\n",
    "\n",
    "# # View the plot drop above\n",
    "# plt.axis('equal')\n",
    "\n",
    "# # View the plot\n",
    "# plt.tight_layout()\n",
    "# plt.show()"
   ]
  },
  {
   "cell_type": "code",
   "execution_count": 317,
   "metadata": {
    "scrolled": false
   },
   "outputs": [],
   "source": [
    "# print(Avg_temp)\n",
    "# print(Humid)\n",
    "\n",
    "x = ['Dec','Jan','Feb','March','Apr','May','June','July','Aug','Sept','Oct','Nov']"
   ]
  },
  {
   "cell_type": "code",
   "execution_count": 316,
   "metadata": {},
   "outputs": [],
   "source": [
    "# fig, ax1 = plt.subplots()\n",
    "\n",
    "# plt.bar(x, Avg_temp.loc['2013',:])\n",
    "\n",
    "# # naming the x axis \n",
    "# plt.xlabel('Month') \n",
    "# # naming the y axis \n",
    "# plt.ylabel('Max_temp') \n",
    "\n",
    "# # giving a title to my graph \n",
    "# plt.title('Temperature graph') \n",
    "\n",
    "# plt.plot(x, Humid.loc['2013',:], label = '2013') \n",
    "# # function to show the plot \n",
    "# plt.show() "
   ]
  },
  {
   "cell_type": "code",
   "execution_count": 315,
   "metadata": {},
   "outputs": [
    {
     "data": {
      "image/png": "[encoded data removed]",
      "text/plain": [
       "<Figure size 432x288 with 2 Axes>"
      ]
     },
     "metadata": {
      "needs_background": "light"
     },
     "output_type": "display_data"
    }
   ],
   "source": [
    "fig, ax1 = plt.subplots()\n",
    "\n",
    "color = '#89F873'\n",
    "ax1.set_xlabel('Months of the year - 2013')\n",
    "ax1.set_ylabel('Temperature', color=color)\n",
    "ax1.bar(x, Avg_temp.loc['2013',:], color = color)\n",
    "ax1.tick_params(axis='y')\n",
    "  \n",
    "# instantiate a second axes that shares the same x-axis\n",
    "ax2 = ax1.twinx()\n",
    "\n",
    "color = 'tab:blue'\n",
    "ax2.set_ylabel('Humidity', color = color)\n",
    "ax2.plot(x, Humid.loc['2013',:], color)\n",
    "ax2.tick_params(axis='y')\n",
    "\n",
    "fig.tight_layout()  # otherwise the right y-label is slightly clipped\n",
    "plt.show()"
   ]
  },
  {
   "cell_type": "code",
   "execution_count": 281,
   "metadata": {
    "collapsed": true
   },
   "outputs": [
    {
     "data": {
      "text/html": [
       "<div>\n",
       "<style scoped>\n",
       "    .dataframe tbody tr th:only-of-type {\n",
       "        vertical-align: middle;\n",
       "    }\n",
       "\n",
       "    .dataframe tbody tr th {\n",
       "        vertical-align: top;\n",
       "    }\n",
       "\n",
       "    .dataframe thead th {\n",
       "        text-align: right;\n",
       "    }\n",
       "</style>\n",
       "<table border=\"1\" class=\"dataframe\">\n",
       "  <thead>\n",
       "    <tr style=\"text-align: right;\">\n",
       "      <th></th>\n",
       "      <th>MinTemp</th>\n",
       "      <th>MaxTemp</th>\n",
       "      <th>Rainfall</th>\n",
       "      <th>WindGustSpeed</th>\n",
       "      <th>WindSpeed9am</th>\n",
       "      <th>WindSpeed3pm</th>\n",
       "      <th>Humidity9am</th>\n",
       "      <th>Humidity3pm</th>\n",
       "      <th>Pressure9am</th>\n",
       "      <th>Pressure3pm</th>\n",
       "      <th>Temp9am</th>\n",
       "      <th>Temp3pm</th>\n",
       "      <th>Winds</th>\n",
       "      <th>Pressures</th>\n",
       "      <th>Humids</th>\n",
       "    </tr>\n",
       "  </thead>\n",
       "  <tbody>\n",
       "    <tr>\n",
       "      <td>MinTemp</td>\n",
       "      <td>1.000000</td>\n",
       "      <td>0.771123</td>\n",
       "      <td>0.012457</td>\n",
       "      <td>0.145587</td>\n",
       "      <td>-0.296366</td>\n",
       "      <td>0.223602</td>\n",
       "      <td>0.055462</td>\n",
       "      <td>0.271415</td>\n",
       "      <td>-0.392995</td>\n",
       "      <td>-0.355685</td>\n",
       "      <td>0.939160</td>\n",
       "      <td>0.753125</td>\n",
       "      <td>-0.032076</td>\n",
       "      <td>-0.377905</td>\n",
       "      <td>0.183958</td>\n",
       "    </tr>\n",
       "    <tr>\n",
       "      <td>MaxTemp</td>\n",
       "      <td>0.771123</td>\n",
       "      <td>1.000000</td>\n",
       "      <td>-0.140098</td>\n",
       "      <td>0.083484</td>\n",
       "      <td>-0.347324</td>\n",
       "      <td>0.150032</td>\n",
       "      <td>-0.183969</td>\n",
       "      <td>-0.151475</td>\n",
       "      <td>-0.390205</td>\n",
       "      <td>-0.425335</td>\n",
       "      <td>0.859222</td>\n",
       "      <td>0.960474</td>\n",
       "      <td>-0.124297</td>\n",
       "      <td>-0.411701</td>\n",
       "      <td>-0.183511</td>\n",
       "    </tr>\n",
       "    <tr>\n",
       "      <td>Rainfall</td>\n",
       "      <td>0.012457</td>\n",
       "      <td>-0.140098</td>\n",
       "      <td>1.000000</td>\n",
       "      <td>0.166214</td>\n",
       "      <td>0.155363</td>\n",
       "      <td>0.039476</td>\n",
       "      <td>0.330799</td>\n",
       "      <td>0.301581</td>\n",
       "      <td>-0.037664</td>\n",
       "      <td>0.002090</td>\n",
       "      <td>-0.056151</td>\n",
       "      <td>-0.143685</td>\n",
       "      <td>0.151389</td>\n",
       "      <td>-0.017932</td>\n",
       "      <td>0.346620</td>\n",
       "    </tr>\n",
       "    <tr>\n",
       "      <td>WindGustSpeed</td>\n",
       "      <td>0.145587</td>\n",
       "      <td>0.083484</td>\n",
       "      <td>0.166214</td>\n",
       "      <td>1.000000</td>\n",
       "      <td>0.293372</td>\n",
       "      <td>0.579860</td>\n",
       "      <td>-0.272724</td>\n",
       "      <td>-0.119369</td>\n",
       "      <td>-0.472372</td>\n",
       "      <td>-0.407399</td>\n",
       "      <td>0.184107</td>\n",
       "      <td>0.039381</td>\n",
       "      <td>0.595928</td>\n",
       "      <td>-0.444133</td>\n",
       "      <td>-0.213118</td>\n",
       "    </tr>\n",
       "    <tr>\n",
       "      <td>WindSpeed9am</td>\n",
       "      <td>-0.296366</td>\n",
       "      <td>-0.347324</td>\n",
       "      <td>0.155363</td>\n",
       "      <td>0.293372</td>\n",
       "      <td>1.000000</td>\n",
       "      <td>0.199756</td>\n",
       "      <td>-0.196060</td>\n",
       "      <td>-0.152960</td>\n",
       "      <td>0.002597</td>\n",
       "      <td>0.089375</td>\n",
       "      <td>-0.331266</td>\n",
       "      <td>-0.348427</td>\n",
       "      <td>0.746006</td>\n",
       "      <td>0.046482</td>\n",
       "      <td>-0.190745</td>\n",
       "    </tr>\n",
       "    <tr>\n",
       "      <td>WindSpeed3pm</td>\n",
       "      <td>0.223602</td>\n",
       "      <td>0.150032</td>\n",
       "      <td>0.039476</td>\n",
       "      <td>0.579860</td>\n",
       "      <td>0.199756</td>\n",
       "      <td>1.000000</td>\n",
       "      <td>-0.289237</td>\n",
       "      <td>-0.133408</td>\n",
       "      <td>-0.329136</td>\n",
       "      <td>-0.273779</td>\n",
       "      <td>0.276822</td>\n",
       "      <td>0.130214</td>\n",
       "      <td>0.755799</td>\n",
       "      <td>-0.304313</td>\n",
       "      <td>-0.228834</td>\n",
       "    </tr>\n",
       "    <tr>\n",
       "      <td>Humidity9am</td>\n",
       "      <td>0.055462</td>\n",
       "      <td>-0.183969</td>\n",
       "      <td>0.330799</td>\n",
       "      <td>-0.272724</td>\n",
       "      <td>-0.196060</td>\n",
       "      <td>-0.289237</td>\n",
       "      <td>1.000000</td>\n",
       "      <td>0.657966</td>\n",
       "      <td>0.262194</td>\n",
       "      <td>0.248196</td>\n",
       "      <td>-0.144974</td>\n",
       "      <td>-0.154440</td>\n",
       "      <td>-0.306133</td>\n",
       "      <td>0.257633</td>\n",
       "      <td>0.903260</td>\n",
       "    </tr>\n",
       "    <tr>\n",
       "      <td>Humidity3pm</td>\n",
       "      <td>0.271415</td>\n",
       "      <td>-0.151475</td>\n",
       "      <td>0.301581</td>\n",
       "      <td>-0.119369</td>\n",
       "      <td>-0.152960</td>\n",
       "      <td>-0.133408</td>\n",
       "      <td>0.657966</td>\n",
       "      <td>1.000000</td>\n",
       "      <td>0.155583</td>\n",
       "      <td>0.182408</td>\n",
       "      <td>0.129365</td>\n",
       "      <td>-0.213231</td>\n",
       "      <td>-0.173778</td>\n",
       "      <td>0.170633</td>\n",
       "      <td>0.917443</td>\n",
       "    </tr>\n",
       "    <tr>\n",
       "      <td>Pressure9am</td>\n",
       "      <td>-0.392995</td>\n",
       "      <td>-0.390205</td>\n",
       "      <td>-0.037664</td>\n",
       "      <td>-0.472372</td>\n",
       "      <td>0.002597</td>\n",
       "      <td>-0.329136</td>\n",
       "      <td>0.262194</td>\n",
       "      <td>0.155583</td>\n",
       "      <td>1.000000</td>\n",
       "      <td>0.962195</td>\n",
       "      <td>-0.419008</td>\n",
       "      <td>-0.347518</td>\n",
       "      <td>-0.247114</td>\n",
       "      <td>0.990480</td>\n",
       "      <td>0.227182</td>\n",
       "    </tr>\n",
       "    <tr>\n",
       "      <td>Pressure3pm</td>\n",
       "      <td>-0.355685</td>\n",
       "      <td>-0.425335</td>\n",
       "      <td>0.002090</td>\n",
       "      <td>-0.407399</td>\n",
       "      <td>0.089375</td>\n",
       "      <td>-0.273779</td>\n",
       "      <td>0.248196</td>\n",
       "      <td>0.182408</td>\n",
       "      <td>0.962195</td>\n",
       "      <td>1.000000</td>\n",
       "      <td>-0.403295</td>\n",
       "      <td>-0.392637</td>\n",
       "      <td>-0.154459</td>\n",
       "      <td>0.990528</td>\n",
       "      <td>0.235070</td>\n",
       "    </tr>\n",
       "    <tr>\n",
       "      <td>Temp9am</td>\n",
       "      <td>0.939160</td>\n",
       "      <td>0.859222</td>\n",
       "      <td>-0.056151</td>\n",
       "      <td>0.184107</td>\n",
       "      <td>-0.331266</td>\n",
       "      <td>0.276822</td>\n",
       "      <td>-0.144974</td>\n",
       "      <td>0.129365</td>\n",
       "      <td>-0.419008</td>\n",
       "      <td>-0.403295</td>\n",
       "      <td>1.000000</td>\n",
       "      <td>0.828959</td>\n",
       "      <td>-0.024446</td>\n",
       "      <td>-0.415084</td>\n",
       "      <td>-0.002882</td>\n",
       "    </tr>\n",
       "    <tr>\n",
       "      <td>Temp3pm</td>\n",
       "      <td>0.753125</td>\n",
       "      <td>0.960474</td>\n",
       "      <td>-0.143685</td>\n",
       "      <td>0.039381</td>\n",
       "      <td>-0.348427</td>\n",
       "      <td>0.130214</td>\n",
       "      <td>-0.154440</td>\n",
       "      <td>-0.213231</td>\n",
       "      <td>-0.347518</td>\n",
       "      <td>-0.392637</td>\n",
       "      <td>0.828959</td>\n",
       "      <td>1.000000</td>\n",
       "      <td>-0.138314</td>\n",
       "      <td>-0.373654</td>\n",
       "      <td>-0.203099</td>\n",
       "    </tr>\n",
       "    <tr>\n",
       "      <td>Winds</td>\n",
       "      <td>-0.032076</td>\n",
       "      <td>-0.124297</td>\n",
       "      <td>0.151389</td>\n",
       "      <td>0.595928</td>\n",
       "      <td>0.746006</td>\n",
       "      <td>0.755799</td>\n",
       "      <td>-0.306133</td>\n",
       "      <td>-0.173778</td>\n",
       "      <td>-0.247114</td>\n",
       "      <td>-0.154459</td>\n",
       "      <td>-0.024446</td>\n",
       "      <td>-0.138314</td>\n",
       "      <td>1.000000</td>\n",
       "      <td>-0.202653</td>\n",
       "      <td>-0.260764</td>\n",
       "    </tr>\n",
       "    <tr>\n",
       "      <td>Pressures</td>\n",
       "      <td>-0.377905</td>\n",
       "      <td>-0.411701</td>\n",
       "      <td>-0.017932</td>\n",
       "      <td>-0.444133</td>\n",
       "      <td>0.046482</td>\n",
       "      <td>-0.304313</td>\n",
       "      <td>0.257633</td>\n",
       "      <td>0.170633</td>\n",
       "      <td>0.990480</td>\n",
       "      <td>0.990528</td>\n",
       "      <td>-0.415084</td>\n",
       "      <td>-0.373654</td>\n",
       "      <td>-0.202653</td>\n",
       "      <td>1.000000</td>\n",
       "      <td>0.233347</td>\n",
       "    </tr>\n",
       "    <tr>\n",
       "      <td>Humids</td>\n",
       "      <td>0.183958</td>\n",
       "      <td>-0.183511</td>\n",
       "      <td>0.346620</td>\n",
       "      <td>-0.213118</td>\n",
       "      <td>-0.190745</td>\n",
       "      <td>-0.228834</td>\n",
       "      <td>0.903260</td>\n",
       "      <td>0.917443</td>\n",
       "      <td>0.227182</td>\n",
       "      <td>0.235070</td>\n",
       "      <td>-0.002882</td>\n",
       "      <td>-0.203099</td>\n",
       "      <td>-0.260764</td>\n",
       "      <td>0.233347</td>\n",
       "      <td>1.000000</td>\n",
       "    </tr>\n",
       "  </tbody>\n",
       "</table>\n",
       "</div>"
      ],
      "text/plain": [
       "                MinTemp   MaxTemp  Rainfall  WindGustSpeed  WindSpeed9am  \\\n",
       "MinTemp        1.000000  0.771123  0.012457       0.145587     -0.296366   \n",
       "MaxTemp        0.771123  1.000000 -0.140098       0.083484     -0.347324   \n",
       "Rainfall       0.012457 -0.140098  1.000000       0.166214      0.155363   \n",
       "WindGustSpeed  0.145587  0.083484  0.166214       1.000000      0.293372   \n",
       "WindSpeed9am  -0.296366 -0.347324  0.155363       0.293372      1.000000   \n",
       "WindSpeed3pm   0.223602  0.150032  0.039476       0.579860      0.199756   \n",
       "Humidity9am    0.055462 -0.183969  0.330799      -0.272724     -0.196060   \n",
       "Humidity3pm    0.271415 -0.151475  0.301581      -0.119369     -0.152960   \n",
       "Pressure9am   -0.392995 -0.390205 -0.037664      -0.472372      0.002597   \n",
       "Pressure3pm   -0.355685 -0.425335  0.002090      -0.407399      0.089375   \n",
       "Temp9am        0.939160  0.859222 -0.056151       0.184107     -0.331266   \n",
       "Temp3pm        0.753125  0.960474 -0.143685       0.039381     -0.348427   \n",
       "Winds         -0.032076 -0.124297  0.151389       0.595928      0.746006   \n",
       "Pressures     -0.377905 -0.411701 -0.017932      -0.444133      0.046482   \n",
       "Humids         0.183958 -0.183511  0.346620      -0.213118     -0.190745   \n",
       "\n",
       "               WindSpeed3pm  Humidity9am  Humidity3pm  Pressure9am  \\\n",
       "MinTemp            0.223602     0.055462     0.271415    -0.392995   \n",
       "MaxTemp            0.150032    -0.183969    -0.151475    -0.390205   \n",
       "Rainfall           0.039476     0.330799     0.301581    -0.037664   \n",
       "WindGustSpeed      0.579860    -0.272724    -0.119369    -0.472372   \n",
       "WindSpeed9am       0.199756    -0.196060    -0.152960     0.002597   \n",
       "WindSpeed3pm       1.000000    -0.289237    -0.133408    -0.329136   \n",
       "Humidity9am       -0.289237     1.000000     0.657966     0.262194   \n",
       "Humidity3pm       -0.133408     0.657966     1.000000     0.155583   \n",
       "Pressure9am       -0.329136     0.262194     0.155583     1.000000   \n",
       "Pressure3pm       -0.273779     0.248196     0.182408     0.962195   \n",
       "Temp9am            0.276822    -0.144974     0.129365    -0.419008   \n",
       "Temp3pm            0.130214    -0.154440    -0.213231    -0.347518   \n",
       "Winds              0.755799    -0.306133    -0.173778    -0.247114   \n",
       "Pressures         -0.304313     0.257633     0.170633     0.990480   \n",
       "Humids            -0.228834     0.903260     0.917443     0.227182   \n",
       "\n",
       "               Pressure3pm   Temp9am   Temp3pm     Winds  Pressures    Humids  \n",
       "MinTemp          -0.355685  0.939160  0.753125 -0.032076  -0.377905  0.183958  \n",
       "MaxTemp          -0.425335  0.859222  0.960474 -0.124297  -0.411701 -0.183511  \n",
       "Rainfall          0.002090 -0.056151 -0.143685  0.151389  -0.017932  0.346620  \n",
       "WindGustSpeed    -0.407399  0.184107  0.039381  0.595928  -0.444133 -0.213118  \n",
       "WindSpeed9am      0.089375 -0.331266 -0.348427  0.746006   0.046482 -0.190745  \n",
       "WindSpeed3pm     -0.273779  0.276822  0.130214  0.755799  -0.304313 -0.228834  \n",
       "Humidity9am       0.248196 -0.144974 -0.154440 -0.306133   0.257633  0.903260  \n",
       "Humidity3pm       0.182408  0.129365 -0.213231 -0.173778   0.170633  0.917443  \n",
       "Pressure9am       0.962195 -0.419008 -0.347518 -0.247114   0.990480  0.227182  \n",
       "Pressure3pm       1.000000 -0.403295 -0.392637 -0.154459   0.990528  0.235070  \n",
       "Temp9am          -0.403295  1.000000  0.828959 -0.024446  -0.415084 -0.002882  \n",
       "Temp3pm          -0.392637  0.828959  1.000000 -0.138314  -0.373654 -0.203099  \n",
       "Winds            -0.154459 -0.024446 -0.138314  1.000000  -0.202653 -0.260764  \n",
       "Pressures         0.990528 -0.415084 -0.373654 -0.202653   1.000000  0.233347  \n",
       "Humids            0.235070 -0.002882 -0.203099 -0.260764   0.233347  1.000000  "
      ]
     },
     "execution_count": 281,
     "metadata": {},
     "output_type": "execute_result"
    }
   ],
   "source": [
    "s = sydney\n",
    "s['Winds'] = ((s['WindSpeed9am'] + s['WindSpeed3pm'])/2)**2\n",
    "s['Pressures'] = ((s['Pressure9am'] + s['Pressure3pm'])/2)\n",
    "s['Humids'] =  ((s['Humidity9am'] + s['Humidity3pm'])/2)\n",
    "\n",
    "# s.corr(method = 'pearson')"
   ]
  },
  {
   "cell_type": "code",
   "execution_count": 343,
   "metadata": {},
   "outputs": [
    {
     "data": {
      "image/png": "[encoded data removed]",
      "text/plain": [
       "<Figure size 432x288 with 1 Axes>"
      ]
     },
     "metadata": {
      "needs_background": "light"
     },
     "output_type": "display_data"
    }
   ],
   "source": [
    "da = s.loc[(s.Date>= '2013-00-01') & (s.Date<= '2013-13-32')]\n",
    "\n",
    "xx = da['Pressures']\n",
    "x = (xx-xx.mean())/xx.std()\n",
    "yy = da['WindGustSpeed']\n",
    "y = (yy-yy.mean())/yy.std()\n",
    "sns.regplot(x,y)\n",
    "plt.show()"
   ]
  },
  {
   "cell_type": "code",
   "execution_count": 344,
   "metadata": {},
   "outputs": [
    {
     "data": {
      "text/plain": [
       "-0.5695992998527029"
      ]
     },
     "execution_count": 344,
     "metadata": {},
     "output_type": "execute_result"
    }
   ],
   "source": [
    "x.corr(y)"
   ]
  },
  {
   "cell_type": "code",
   "execution_count": 346,
   "metadata": {
    "scrolled": true
   },
   "outputs": [
    {
     "data": {
      "image/png": "[encoded data removed]",
      "text/plain": [
       "<Figure size 432x288 with 1 Axes>"
      ]
     },
     "metadata": {
      "needs_background": "light"
     },
     "output_type": "display_data"
    }
   ],
   "source": [
    "xx = da['Humids']\n",
    "x = (xx-xx.mean())/xx.std()\n",
    "yy = da['Rainfall']\n",
    "y = (yy-yy.mean())/yy.std()\n",
    "plt.scatter(x,y)\n",
    "plt.show()"
   ]
  },
  {
   "cell_type": "code",
   "execution_count": 347,
   "metadata": {},
   "outputs": [
    {
     "data": {
      "text/plain": [
       "0.41779510388035945"
      ]
     },
     "execution_count": 347,
     "metadata": {},
     "output_type": "execute_result"
    }
   ],
   "source": [
    "x.corr(y)"
   ]
  },
  {
   "cell_type": "code",
   "execution_count": 348,
   "metadata": {
    "scrolled": true
   },
   "outputs": [
    {
     "data": {
      "image/png": "[encoded data removed]",
      "text/plain": [
       "<Figure size 432x288 with 1 Axes>"
      ]
     },
     "metadata": {
      "needs_background": "light"
     },
     "output_type": "display_data"
    }
   ],
   "source": [
    "xx = da['Humids']\n",
    "x = (xx-xx.mean())/xx.std()\n",
    "yy = da['Pressures']\n",
    "y = (yy-yy.mean())/yy.std()\n",
    "sns.regplot(x,y)\n",
    "plt.show()"
   ]
  },
  {
   "cell_type": "code",
   "execution_count": 349,
   "metadata": {},
   "outputs": [
    {
     "data": {
      "text/plain": [
       "0.35745858764507116"
      ]
     },
     "execution_count": 349,
     "metadata": {},
     "output_type": "execute_result"
    }
   ],
   "source": [
    "x.corr(y)"
   ]
  },
  {
   "cell_type": "code",
   "execution_count": 350,
   "metadata": {},
   "outputs": [
    {
     "data": {
      "image/png": "[encoded data removed]",
      "text/plain": [
       "<Figure size 432x288 with 1 Axes>"
      ]
     },
     "metadata": {
      "needs_background": "light"
     },
     "output_type": "display_data"
    }
   ],
   "source": [
    "xx = da['MaxTemp']\n",
    "x = (xx-xx.mean())/xx.std()\n",
    "yy = da['Humidity9am']\n",
    "y = (yy-yy.mean())/yy.std()\n",
    "sns.regplot(x,y)\n",
    "plt.show()"
   ]
  },
  {
   "cell_type": "code",
   "execution_count": 351,
   "metadata": {},
   "outputs": [
    {
     "data": {
      "text/plain": [
       "-0.3529150791083767"
      ]
     },
     "execution_count": 351,
     "metadata": {},
     "output_type": "execute_result"
    }
   ],
   "source": [
    "x.corr(y)"
   ]
  },
  {
   "cell_type": "code",
   "execution_count": null,
   "metadata": {},
   "outputs": [],
   "source": []
  }
 ],
 "metadata": {
  "kernelspec": {
   "display_name": "Python 3",
   "language": "python",
   "name": "python3"
  },
  "language_info": {
   "codemirror_mode": {
    "name": "ipython",
    "version": 3
   },
   "file_extension": ".py",
   "mimetype": "text/x-python",
   "name": "python",
   "nbconvert_exporter": "python",
   "pygments_lexer": "ipython3",
   "version": "3.7.4"
  }
 },
 "nbformat": 4,
 "nbformat_minor": 2
}
